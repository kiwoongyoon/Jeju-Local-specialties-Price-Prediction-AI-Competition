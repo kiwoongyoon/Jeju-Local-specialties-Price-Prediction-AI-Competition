{
 "cells": [
  {
   "cell_type": "code",
   "execution_count": 12,
   "metadata": {},
   "outputs": [],
   "source": [
    "import random\n",
    "import os\n",
    "from datetime import datetime\n",
    "from tqdm import tqdm\n",
    "import pandas as pd\n",
    "import numpy as np\n",
    "from tqdm.auto import tqdm\n",
    "from torch.utils.data import Dataset, DataLoader\n",
    "from sklearn.preprocessing import LabelEncoder"
   ]
  },
  {
   "cell_type": "code",
   "execution_count": 13,
   "metadata": {},
   "outputs": [],
   "source": [
    "train = pd.read_csv('../../DATA/train.csv')\n",
    "test  = pd.read_csv('../../DATA/test.csv')"
   ]
  },
  {
   "cell_type": "code",
   "execution_count": 14,
   "metadata": {},
   "outputs": [],
   "source": [
    "\n",
    "new_column_names = {\n",
    "    'corporation': 'corp',\n",
    "    'location': 'loc',\n",
    "    'supply(kg)': 'supply',\n",
    "    'price(원/kg)': 'price',\n",
    "}\n",
    "train = train.rename(columns=new_column_names)\n",
    "test = test.rename(columns=new_column_names)\n",
    "train['timestamp']  = pd.to_datetime(train['timestamp'])\n",
    "test['timestamp']  = pd.to_datetime(test['timestamp'])\n",
    "\n",
    "train['newitem'] = train['item'].str.cat([train['corp'], train['loc']], sep=' ')"
   ]
  },
  {
   "cell_type": "code",
   "execution_count": 15,
   "metadata": {},
   "outputs": [],
   "source": [
    "#가격 시계열 price_data 생성하기 \n",
    "\n",
    "def before_timeseries_data(train):\n",
    "    unique_values = train['newitem'].unique()\n",
    "    # 날짜 범위 생성\n",
    "    start_date = datetime(2019, 1, 1).date()\n",
    "    end_date =datetime(2023, 3, 3).date()\n",
    "    dates = pd.date_range(start_date, end_date, freq='D')\n",
    "\n",
    "    # 데이터프레임 생성\n",
    "    price_data = pd.DataFrame(columns=['item'] + dates.strftime('%Y-%m-%d').tolist())\n",
    "    price_data['item'] = unique_values\n",
    "\n",
    "    # print(len(price_data)) 39 \n",
    "    for i in range(len(price_data)) :\n",
    "        price_data.iloc[i,1:] = train['price'][i*1523 : (i+1)*1523 ]\n",
    "    price_data['item'] = price_data['item'].astype(str)\n",
    "    price_data['corp'] = price_data['item'].str[3:4]\n",
    "\n",
    "    price_data['loca'] = price_data['item'].str[-1:]\n",
    "    price_data['product'] = price_data['item'].str[:2]\n",
    "    price_data['product_loca'] =price_data['product'].str.cat(price_data['loca'], sep=' ')\n",
    "    cols = price_data.columns[-4:]  # 가장 뒤의 3개 열의 열 이름을 선택\n",
    "    price_data = price_data[cols.tolist() + price_data.columns[:-4].tolist()]  # 열 순서 변경\n",
    "    \n",
    "    return price_data\n",
    "\n",
    "price_data = before_timeseries_data(train)"
   ]
  },
  {
   "cell_type": "code",
   "execution_count": 16,
   "metadata": {},
   "outputs": [
    {
     "name": "stderr",
     "output_type": "stream",
     "text": [
      "/home/kiwoongyoon/.local/lib/python3.10/site-packages/sklearn/utils/validation.py:605: FutureWarning: is_sparse is deprecated and will be removed in a future version. Check `isinstance(dtype, pd.SparseDtype)` instead.\n",
      "  if is_sparse(pd_dtype):\n",
      "/home/kiwoongyoon/.local/lib/python3.10/site-packages/sklearn/utils/validation.py:614: FutureWarning: is_sparse is deprecated and will be removed in a future version. Check `isinstance(dtype, pd.SparseDtype)` instead.\n",
      "  if is_sparse(pd_dtype) or not is_extension_array_dtype(pd_dtype):\n"
     ]
    }
   ],
   "source": [
    "le = LabelEncoder()\n",
    "price_data['product_loca'] = le.fit_transform(price_data['product_loca'])\n",
    "price_df = price_data.copy()"
   ]
  },
  {
   "cell_type": "code",
   "execution_count": 17,
   "metadata": {},
   "outputs": [],
   "source": [
    "def minimum_for_each(data) :\n",
    "    non_zero_data =[value for value in data if value != 0]\n",
    "    min_price = np.min(non_zero_data[-18: ])\n",
    "    return min_price"
   ]
  },
  {
   "cell_type": "code",
   "execution_count": 18,
   "metadata": {},
   "outputs": [],
   "source": [
    "# interpolation 적용하기 \n",
    "minforeach = []\n",
    "for i in range(len(price_df)) :\n",
    "    # cres , cbas, crds , bcbs , rdcs, bccs \n",
    "    # print(price_df.iloc[i, 4])\n",
    "    if price_df.iloc[i, 4] in ['CR E S', 'CB A S' , 'CR D S', 'BC B S', 'RD C S' , 'BC C S']: continue\n",
    "    \n",
    "    prices = list(price_df.iloc[i , 5:])\n",
    "    minprice= minimum_for_each(np.array(prices)) \n",
    "    # if prices[-1] ==0 :        print(price_df.iloc[i, 4] , median_price)  \n",
    "    \n",
    "\n",
    "    #각각의 아이템에 대해서 최소의 값을 고른다 \n",
    "    minforeach.append(( price_df.iloc[i, 4].replace(' ', '_'), minprice))\n",
    "    "
   ]
  },
  {
   "cell_type": "code",
   "execution_count": 19,
   "metadata": {},
   "outputs": [],
   "source": [
    "#수정할 제출 데이터 가지고오기 \n",
    "data = pd.read_csv('../../DATA/SUBMIT/patchTST.csv').rename(columns={'answer': 'price'} )\n"
   ]
  },
  {
   "cell_type": "code",
   "execution_count": 20,
   "metadata": {},
   "outputs": [],
   "source": [
    "#최소값 보정 \n",
    "def fix_min(id, price) :\n",
    "    item_id = id[:6]\n",
    "    # return str(item_id)\n",
    "    for i in range(len(minforeach)):\n",
    "        if item_id == minforeach[i][0] and price < minforeach[i][1]:\n",
    "            price= minforeach[i][1]\n",
    "    if item_id == 'CB_A_S': \n",
    "        price = price *0.35\n",
    "    return price\n",
    "\n",
    "def change(data) :\n",
    "    \n",
    "    data['ID']= data['ID'].astype(str)\n",
    "    min_fixed = data.apply(lambda row: fix_min(row['ID'],row['price']), axis=1 )\n",
    "    data['price'] = min_fixed\n",
    "    data.loc[data['price'] <= 0, 'price'] = 0\n",
    "    data.loc[data.index % 7 == 1, 'price'] = 0\n",
    "    data.rename(columns={'price': 'answer'})\n",
    "    return data \n",
    "\n"
   ]
  },
  {
   "cell_type": "code",
   "execution_count": 21,
   "metadata": {},
   "outputs": [],
   "source": [
    "tosubmit = change(data)"
   ]
  },
  {
   "cell_type": "code",
   "execution_count": 22,
   "metadata": {},
   "outputs": [],
   "source": [
    "tosubmit.to_csv('../../DATA/SUBMIT/patchTST_minfixed.csv', index=False)"
   ]
  }
 ],
 "metadata": {
  "kernelspec": {
   "display_name": "Python 3",
   "language": "python",
   "name": "python3"
  },
  "language_info": {
   "codemirror_mode": {
    "name": "ipython",
    "version": 3
   },
   "file_extension": ".py",
   "mimetype": "text/x-python",
   "name": "python",
   "nbconvert_exporter": "python",
   "pygments_lexer": "ipython3",
   "version": "3.10.12"
  }
 },
 "nbformat": 4,
 "nbformat_minor": 2
}
