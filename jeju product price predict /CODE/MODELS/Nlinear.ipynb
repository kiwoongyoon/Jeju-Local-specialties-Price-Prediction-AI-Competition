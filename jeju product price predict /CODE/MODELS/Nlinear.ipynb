{
 "cells": [
  {
   "cell_type": "code",
   "execution_count": 21,
   "metadata": {},
   "outputs": [
    {
     "data": {
      "text/plain": [
       "device(type='cuda', index=0)"
      ]
     },
     "execution_count": 21,
     "metadata": {},
     "output_type": "execute_result"
    }
   ],
   "source": [
    "import random\n",
    "import os\n",
    "import pandas as pd \n",
    "from datetime import datetime\n",
    "from tqdm import tqdm\n",
    "import pandas as pd\n",
    "import numpy as np\n",
    "from tqdm.auto import tqdm\n",
    "import torch\n",
    "import torch.nn as nn\n",
    "import torch.optim as optim\n",
    "import torch.nn.functional as F\n",
    "from torch.utils.data import Dataset, DataLoader\n",
    "from sklearn.preprocessing import LabelEncoder\n",
    "import torch.nn as nn\n",
    "device = torch.device('cuda:0') if torch.cuda.is_available() else torch.device('cpu')\n",
    "device"
   ]
  },
  {
   "cell_type": "code",
   "execution_count": 22,
   "metadata": {},
   "outputs": [],
   "source": [
    "def seed_everything(seed):\n",
    "    random.seed(seed)\n",
    "    os.environ['PYTHONHASHSEED'] = str(seed)\n",
    "    np.random.seed(seed)\n",
    "    torch.manual_seed(seed)\n",
    "    torch.cuda.manual_seed(seed)\n",
    "    torch.backends.cudnn.deterministic = True\n",
    "    torch.backends.cudnn.benchmark = True"
   ]
  },
  {
   "cell_type": "code",
   "execution_count": 23,
   "metadata": {},
   "outputs": [],
   "source": [
    "train = pd.read_csv('../../DATA/train.csv')\n",
    "test  = pd.read_csv('../../DATA/test.csv')"
   ]
  },
  {
   "cell_type": "code",
   "execution_count": 24,
   "metadata": {},
   "outputs": [],
   "source": [
    "# 데이터 타입 변경, 열 이름 변경 \n",
    "\n",
    "new_column_names = {\n",
    "    'corporation': 'corp',\n",
    "    'location': 'loc',\n",
    "    'supply(kg)': 'supply',\n",
    "    'price(원/kg)': 'price',\n",
    "}\n",
    "\n",
    "train = train.rename(columns=new_column_names)\n",
    "test = test.rename(columns=new_column_names)\n",
    "\n",
    "train['timestamp']  = pd.to_datetime(train['timestamp'])\n",
    "test['timestamp']  = pd.to_datetime(test['timestamp'])\n",
    "\n",
    "train['newitem'] = train['item'].str.cat([train['corp'], train['loc']], sep=' ')"
   ]
  },
  {
   "cell_type": "code",
   "execution_count": 25,
   "metadata": {},
   "outputs": [],
   "source": [
    "#가격 시계열 price_data 생성하기 \n",
    "\n",
    "def before_timeseries_data(train):\n",
    "    unique_values = train['newitem'].unique()\n",
    "    # 날짜 범위 생성\n",
    "    start_date = datetime(2019, 1, 1).date()\n",
    "    end_date =datetime(2023, 3, 3).date()\n",
    "    dates = pd.date_range(start_date, end_date, freq='D')\n",
    "\n",
    "    # 데이터프레임 생성\n",
    "    price_data = pd.DataFrame(columns=['item'] + dates.strftime('%Y-%m-%d').tolist())\n",
    "    price_data['item'] = unique_values\n",
    "\n",
    "    # print(len(price_data)) 39 \n",
    "    for i in range(len(price_data)) :\n",
    "        price_data.iloc[i,1:] = train['price'][i*1523 : (i+1)*1523 ]\n",
    "    price_data['item'] = price_data['item'].astype(str)\n",
    "    price_data['corp'] = price_data['item'].str[3:4]\n",
    "\n",
    "    price_data['loca'] = price_data['item'].str[-1:]\n",
    "    price_data['product'] = price_data['item'].str[:2]\n",
    "    price_data['product_loca'] =price_data['product'].str.cat(price_data['loca'], sep=' ')\n",
    "    cols = price_data.columns[-4:]  # 가장 뒤의 3개 열의 열 이름을 선택\n",
    "    price_data = price_data[cols.tolist() + price_data.columns[:-4].tolist()]  # 열 순서 변경\n",
    "    \n",
    "    return price_data\n",
    "\n",
    "price_data = before_timeseries_data(train)"
   ]
  },
  {
   "cell_type": "code",
   "execution_count": 26,
   "metadata": {},
   "outputs": [
    {
     "name": "stderr",
     "output_type": "stream",
     "text": [
      "/home/kiwoongyoon/.local/lib/python3.10/site-packages/sklearn/utils/validation.py:605: FutureWarning: is_sparse is deprecated and will be removed in a future version. Check `isinstance(dtype, pd.SparseDtype)` instead.\n",
      "  if is_sparse(pd_dtype):\n",
      "/home/kiwoongyoon/.local/lib/python3.10/site-packages/sklearn/utils/validation.py:614: FutureWarning: is_sparse is deprecated and will be removed in a future version. Check `isinstance(dtype, pd.SparseDtype)` instead.\n",
      "  if is_sparse(pd_dtype) or not is_extension_array_dtype(pd_dtype):\n"
     ]
    }
   ],
   "source": [
    "\n",
    "\n",
    "le = LabelEncoder()\n",
    "price_data['product_loca'] = le.fit_transform(price_data['product_loca'])"
   ]
  },
  {
   "cell_type": "code",
   "execution_count": 27,
   "metadata": {},
   "outputs": [],
   "source": [
    "price_df = price_data.copy()"
   ]
  },
  {
   "cell_type": "code",
   "execution_count": 28,
   "metadata": {},
   "outputs": [
    {
     "data": {
      "text/html": [
       "<div>\n",
       "<style scoped>\n",
       "    .dataframe tbody tr th:only-of-type {\n",
       "        vertical-align: middle;\n",
       "    }\n",
       "\n",
       "    .dataframe tbody tr th {\n",
       "        vertical-align: top;\n",
       "    }\n",
       "\n",
       "    .dataframe thead th {\n",
       "        text-align: right;\n",
       "    }\n",
       "</style>\n",
       "<table border=\"1\" class=\"dataframe\">\n",
       "  <thead>\n",
       "    <tr style=\"text-align: right;\">\n",
       "      <th></th>\n",
       "      <th>corp</th>\n",
       "      <th>loca</th>\n",
       "      <th>product</th>\n",
       "      <th>product_loca</th>\n",
       "      <th>item</th>\n",
       "      <th>2019-01-01</th>\n",
       "      <th>2019-01-02</th>\n",
       "      <th>2019-01-03</th>\n",
       "      <th>2019-01-04</th>\n",
       "      <th>2019-01-05</th>\n",
       "      <th>...</th>\n",
       "      <th>2023-02-22</th>\n",
       "      <th>2023-02-23</th>\n",
       "      <th>2023-02-24</th>\n",
       "      <th>2023-02-25</th>\n",
       "      <th>2023-02-26</th>\n",
       "      <th>2023-02-27</th>\n",
       "      <th>2023-02-28</th>\n",
       "      <th>2023-03-01</th>\n",
       "      <th>2023-03-02</th>\n",
       "      <th>2023-03-03</th>\n",
       "    </tr>\n",
       "  </thead>\n",
       "  <tbody>\n",
       "    <tr>\n",
       "      <th>0</th>\n",
       "      <td>A</td>\n",
       "      <td>J</td>\n",
       "      <td>TG</td>\n",
       "      <td>8</td>\n",
       "      <td>TG A J</td>\n",
       "      <td>0.0</td>\n",
       "      <td>0.0</td>\n",
       "      <td>1728.0</td>\n",
       "      <td>1408.0</td>\n",
       "      <td>1250.0</td>\n",
       "      <td>...</td>\n",
       "      <td>2813.0</td>\n",
       "      <td>2770.0</td>\n",
       "      <td>2633.0</td>\n",
       "      <td>3155.0</td>\n",
       "      <td>0.0</td>\n",
       "      <td>2657.0</td>\n",
       "      <td>3922.0</td>\n",
       "      <td>3397.0</td>\n",
       "      <td>3195.0</td>\n",
       "      <td>3640.0</td>\n",
       "    </tr>\n",
       "    <tr>\n",
       "      <th>1</th>\n",
       "      <td>A</td>\n",
       "      <td>S</td>\n",
       "      <td>TG</td>\n",
       "      <td>9</td>\n",
       "      <td>TG A S</td>\n",
       "      <td>0.0</td>\n",
       "      <td>0.0</td>\n",
       "      <td>2526.0</td>\n",
       "      <td>2134.0</td>\n",
       "      <td>2075.0</td>\n",
       "      <td>...</td>\n",
       "      <td>3444.0</td>\n",
       "      <td>3481.0</td>\n",
       "      <td>3518.0</td>\n",
       "      <td>4201.0</td>\n",
       "      <td>0.0</td>\n",
       "      <td>4166.0</td>\n",
       "      <td>4009.0</td>\n",
       "      <td>4173.0</td>\n",
       "      <td>4219.0</td>\n",
       "      <td>4089.0</td>\n",
       "    </tr>\n",
       "    <tr>\n",
       "      <th>2</th>\n",
       "      <td>B</td>\n",
       "      <td>J</td>\n",
       "      <td>TG</td>\n",
       "      <td>8</td>\n",
       "      <td>TG B J</td>\n",
       "      <td>0.0</td>\n",
       "      <td>0.0</td>\n",
       "      <td>1692.0</td>\n",
       "      <td>1516.0</td>\n",
       "      <td>1471.0</td>\n",
       "      <td>...</td>\n",
       "      <td>4175.0</td>\n",
       "      <td>6216.0</td>\n",
       "      <td>3558.0</td>\n",
       "      <td>2412.0</td>\n",
       "      <td>0.0</td>\n",
       "      <td>3540.0</td>\n",
       "      <td>3141.0</td>\n",
       "      <td>6382.0</td>\n",
       "      <td>3558.0</td>\n",
       "      <td>3470.0</td>\n",
       "    </tr>\n",
       "    <tr>\n",
       "      <th>3</th>\n",
       "      <td>B</td>\n",
       "      <td>S</td>\n",
       "      <td>TG</td>\n",
       "      <td>9</td>\n",
       "      <td>TG B S</td>\n",
       "      <td>0.0</td>\n",
       "      <td>0.0</td>\n",
       "      <td>1944.0</td>\n",
       "      <td>1815.0</td>\n",
       "      <td>1717.0</td>\n",
       "      <td>...</td>\n",
       "      <td>3202.0</td>\n",
       "      <td>3478.0</td>\n",
       "      <td>3939.0</td>\n",
       "      <td>3677.0</td>\n",
       "      <td>0.0</td>\n",
       "      <td>4057.0</td>\n",
       "      <td>3821.0</td>\n",
       "      <td>4037.0</td>\n",
       "      <td>4004.0</td>\n",
       "      <td>4241.0</td>\n",
       "    </tr>\n",
       "    <tr>\n",
       "      <th>4</th>\n",
       "      <td>C</td>\n",
       "      <td>J</td>\n",
       "      <td>TG</td>\n",
       "      <td>8</td>\n",
       "      <td>TG C J</td>\n",
       "      <td>0.0</td>\n",
       "      <td>0.0</td>\n",
       "      <td>1965.0</td>\n",
       "      <td>1794.0</td>\n",
       "      <td>1773.0</td>\n",
       "      <td>...</td>\n",
       "      <td>4017.0</td>\n",
       "      <td>4585.0</td>\n",
       "      <td>4835.0</td>\n",
       "      <td>5550.0</td>\n",
       "      <td>0.0</td>\n",
       "      <td>5037.0</td>\n",
       "      <td>2643.0</td>\n",
       "      <td>3742.0</td>\n",
       "      <td>3983.0</td>\n",
       "      <td>5175.0</td>\n",
       "    </tr>\n",
       "    <tr>\n",
       "      <th>5</th>\n",
       "      <td>C</td>\n",
       "      <td>S</td>\n",
       "      <td>TG</td>\n",
       "      <td>9</td>\n",
       "      <td>TG C S</td>\n",
       "      <td>0.0</td>\n",
       "      <td>0.0</td>\n",
       "      <td>2078.0</td>\n",
       "      <td>2002.0</td>\n",
       "      <td>1815.0</td>\n",
       "      <td>...</td>\n",
       "      <td>3228.0</td>\n",
       "      <td>3484.0</td>\n",
       "      <td>3773.0</td>\n",
       "      <td>4298.0</td>\n",
       "      <td>0.0</td>\n",
       "      <td>4180.0</td>\n",
       "      <td>4234.0</td>\n",
       "      <td>4357.0</td>\n",
       "      <td>4466.0</td>\n",
       "      <td>4748.0</td>\n",
       "    </tr>\n",
       "    <tr>\n",
       "      <th>6</th>\n",
       "      <td>D</td>\n",
       "      <td>J</td>\n",
       "      <td>TG</td>\n",
       "      <td>8</td>\n",
       "      <td>TG D J</td>\n",
       "      <td>0.0</td>\n",
       "      <td>0.0</td>\n",
       "      <td>1616.0</td>\n",
       "      <td>1337.0</td>\n",
       "      <td>1234.0</td>\n",
       "      <td>...</td>\n",
       "      <td>0.0</td>\n",
       "      <td>0.0</td>\n",
       "      <td>1838.0</td>\n",
       "      <td>1829.0</td>\n",
       "      <td>0.0</td>\n",
       "      <td>0.0</td>\n",
       "      <td>0.0</td>\n",
       "      <td>0.0</td>\n",
       "      <td>0.0</td>\n",
       "      <td>0.0</td>\n",
       "    </tr>\n",
       "    <tr>\n",
       "      <th>7</th>\n",
       "      <td>D</td>\n",
       "      <td>S</td>\n",
       "      <td>TG</td>\n",
       "      <td>9</td>\n",
       "      <td>TG D S</td>\n",
       "      <td>0.0</td>\n",
       "      <td>0.0</td>\n",
       "      <td>2048.0</td>\n",
       "      <td>1757.0</td>\n",
       "      <td>1719.0</td>\n",
       "      <td>...</td>\n",
       "      <td>2539.0</td>\n",
       "      <td>2955.0</td>\n",
       "      <td>3323.0</td>\n",
       "      <td>3321.0</td>\n",
       "      <td>0.0</td>\n",
       "      <td>3409.0</td>\n",
       "      <td>3236.0</td>\n",
       "      <td>4631.0</td>\n",
       "      <td>4114.0</td>\n",
       "      <td>4146.0</td>\n",
       "    </tr>\n",
       "    <tr>\n",
       "      <th>8</th>\n",
       "      <td>E</td>\n",
       "      <td>J</td>\n",
       "      <td>TG</td>\n",
       "      <td>8</td>\n",
       "      <td>TG E J</td>\n",
       "      <td>0.0</td>\n",
       "      <td>0.0</td>\n",
       "      <td>1692.0</td>\n",
       "      <td>1475.0</td>\n",
       "      <td>1392.0</td>\n",
       "      <td>...</td>\n",
       "      <td>3157.0</td>\n",
       "      <td>4793.0</td>\n",
       "      <td>2403.0</td>\n",
       "      <td>1489.0</td>\n",
       "      <td>0.0</td>\n",
       "      <td>2620.0</td>\n",
       "      <td>1673.0</td>\n",
       "      <td>0.0</td>\n",
       "      <td>1904.0</td>\n",
       "      <td>1622.0</td>\n",
       "    </tr>\n",
       "    <tr>\n",
       "      <th>9</th>\n",
       "      <td>E</td>\n",
       "      <td>S</td>\n",
       "      <td>TG</td>\n",
       "      <td>9</td>\n",
       "      <td>TG E S</td>\n",
       "      <td>0.0</td>\n",
       "      <td>0.0</td>\n",
       "      <td>2151.0</td>\n",
       "      <td>1829.0</td>\n",
       "      <td>2002.0</td>\n",
       "      <td>...</td>\n",
       "      <td>3400.0</td>\n",
       "      <td>3349.0</td>\n",
       "      <td>3026.0</td>\n",
       "      <td>2946.0</td>\n",
       "      <td>0.0</td>\n",
       "      <td>3418.0</td>\n",
       "      <td>3141.0</td>\n",
       "      <td>4235.0</td>\n",
       "      <td>3960.0</td>\n",
       "      <td>3791.0</td>\n",
       "    </tr>\n",
       "    <tr>\n",
       "      <th>10</th>\n",
       "      <td>A</td>\n",
       "      <td>J</td>\n",
       "      <td>CR</td>\n",
       "      <td>4</td>\n",
       "      <td>CR A J</td>\n",
       "      <td>0.0</td>\n",
       "      <td>0.0</td>\n",
       "      <td>0.0</td>\n",
       "      <td>1141.0</td>\n",
       "      <td>1133.0</td>\n",
       "      <td>...</td>\n",
       "      <td>2377.0</td>\n",
       "      <td>2236.0</td>\n",
       "      <td>2224.0</td>\n",
       "      <td>2136.0</td>\n",
       "      <td>0.0</td>\n",
       "      <td>1934.0</td>\n",
       "      <td>2162.0</td>\n",
       "      <td>2101.0</td>\n",
       "      <td>1839.0</td>\n",
       "      <td>3486.0</td>\n",
       "    </tr>\n",
       "    <tr>\n",
       "      <th>11</th>\n",
       "      <td>B</td>\n",
       "      <td>J</td>\n",
       "      <td>CR</td>\n",
       "      <td>4</td>\n",
       "      <td>CR B J</td>\n",
       "      <td>0.0</td>\n",
       "      <td>0.0</td>\n",
       "      <td>1177.0</td>\n",
       "      <td>0.0</td>\n",
       "      <td>0.0</td>\n",
       "      <td>...</td>\n",
       "      <td>0.0</td>\n",
       "      <td>0.0</td>\n",
       "      <td>3000.0</td>\n",
       "      <td>0.0</td>\n",
       "      <td>0.0</td>\n",
       "      <td>3000.0</td>\n",
       "      <td>2274.0</td>\n",
       "      <td>0.0</td>\n",
       "      <td>0.0</td>\n",
       "      <td>0.0</td>\n",
       "    </tr>\n",
       "    <tr>\n",
       "      <th>12</th>\n",
       "      <td>C</td>\n",
       "      <td>J</td>\n",
       "      <td>CR</td>\n",
       "      <td>4</td>\n",
       "      <td>CR C J</td>\n",
       "      <td>0.0</td>\n",
       "      <td>0.0</td>\n",
       "      <td>1280.0</td>\n",
       "      <td>0.0</td>\n",
       "      <td>1399.0</td>\n",
       "      <td>...</td>\n",
       "      <td>2192.0</td>\n",
       "      <td>2339.0</td>\n",
       "      <td>2120.0</td>\n",
       "      <td>2116.0</td>\n",
       "      <td>0.0</td>\n",
       "      <td>2002.0</td>\n",
       "      <td>2060.0</td>\n",
       "      <td>1890.0</td>\n",
       "      <td>1788.0</td>\n",
       "      <td>1758.0</td>\n",
       "    </tr>\n",
       "    <tr>\n",
       "      <th>13</th>\n",
       "      <td>D</td>\n",
       "      <td>J</td>\n",
       "      <td>CR</td>\n",
       "      <td>4</td>\n",
       "      <td>CR D J</td>\n",
       "      <td>0.0</td>\n",
       "      <td>0.0</td>\n",
       "      <td>0.0</td>\n",
       "      <td>1326.0</td>\n",
       "      <td>1135.0</td>\n",
       "      <td>...</td>\n",
       "      <td>2256.0</td>\n",
       "      <td>2238.0</td>\n",
       "      <td>2018.0</td>\n",
       "      <td>0.0</td>\n",
       "      <td>0.0</td>\n",
       "      <td>2212.0</td>\n",
       "      <td>2050.0</td>\n",
       "      <td>2051.0</td>\n",
       "      <td>1933.0</td>\n",
       "      <td>1725.0</td>\n",
       "    </tr>\n",
       "    <tr>\n",
       "      <th>14</th>\n",
       "      <td>D</td>\n",
       "      <td>S</td>\n",
       "      <td>CR</td>\n",
       "      <td>5</td>\n",
       "      <td>CR D S</td>\n",
       "      <td>0.0</td>\n",
       "      <td>0.0</td>\n",
       "      <td>0.0</td>\n",
       "      <td>0.0</td>\n",
       "      <td>0.0</td>\n",
       "      <td>...</td>\n",
       "      <td>0.0</td>\n",
       "      <td>0.0</td>\n",
       "      <td>0.0</td>\n",
       "      <td>0.0</td>\n",
       "      <td>0.0</td>\n",
       "      <td>0.0</td>\n",
       "      <td>0.0</td>\n",
       "      <td>0.0</td>\n",
       "      <td>0.0</td>\n",
       "      <td>0.0</td>\n",
       "    </tr>\n",
       "    <tr>\n",
       "      <th>15</th>\n",
       "      <td>E</td>\n",
       "      <td>J</td>\n",
       "      <td>CR</td>\n",
       "      <td>4</td>\n",
       "      <td>CR E J</td>\n",
       "      <td>0.0</td>\n",
       "      <td>0.0</td>\n",
       "      <td>1163.0</td>\n",
       "      <td>1128.0</td>\n",
       "      <td>1176.0</td>\n",
       "      <td>...</td>\n",
       "      <td>2029.0</td>\n",
       "      <td>2209.0</td>\n",
       "      <td>2097.0</td>\n",
       "      <td>0.0</td>\n",
       "      <td>0.0</td>\n",
       "      <td>2111.0</td>\n",
       "      <td>2152.0</td>\n",
       "      <td>2085.0</td>\n",
       "      <td>1931.0</td>\n",
       "      <td>1777.0</td>\n",
       "    </tr>\n",
       "    <tr>\n",
       "      <th>16</th>\n",
       "      <td>E</td>\n",
       "      <td>S</td>\n",
       "      <td>CR</td>\n",
       "      <td>5</td>\n",
       "      <td>CR E S</td>\n",
       "      <td>0.0</td>\n",
       "      <td>0.0</td>\n",
       "      <td>0.0</td>\n",
       "      <td>0.0</td>\n",
       "      <td>0.0</td>\n",
       "      <td>...</td>\n",
       "      <td>0.0</td>\n",
       "      <td>0.0</td>\n",
       "      <td>0.0</td>\n",
       "      <td>0.0</td>\n",
       "      <td>0.0</td>\n",
       "      <td>0.0</td>\n",
       "      <td>0.0</td>\n",
       "      <td>0.0</td>\n",
       "      <td>0.0</td>\n",
       "      <td>0.0</td>\n",
       "    </tr>\n",
       "    <tr>\n",
       "      <th>17</th>\n",
       "      <td>A</td>\n",
       "      <td>J</td>\n",
       "      <td>CB</td>\n",
       "      <td>2</td>\n",
       "      <td>CB A J</td>\n",
       "      <td>0.0</td>\n",
       "      <td>0.0</td>\n",
       "      <td>0.0</td>\n",
       "      <td>0.0</td>\n",
       "      <td>374.0</td>\n",
       "      <td>...</td>\n",
       "      <td>1562.0</td>\n",
       "      <td>1562.0</td>\n",
       "      <td>1625.0</td>\n",
       "      <td>0.0</td>\n",
       "      <td>0.0</td>\n",
       "      <td>1438.0</td>\n",
       "      <td>710.0</td>\n",
       "      <td>488.0</td>\n",
       "      <td>1312.0</td>\n",
       "      <td>0.0</td>\n",
       "    </tr>\n",
       "    <tr>\n",
       "      <th>18</th>\n",
       "      <td>A</td>\n",
       "      <td>S</td>\n",
       "      <td>CB</td>\n",
       "      <td>3</td>\n",
       "      <td>CB A S</td>\n",
       "      <td>0.0</td>\n",
       "      <td>0.0</td>\n",
       "      <td>510.0</td>\n",
       "      <td>534.0</td>\n",
       "      <td>511.0</td>\n",
       "      <td>...</td>\n",
       "      <td>0.0</td>\n",
       "      <td>0.0</td>\n",
       "      <td>0.0</td>\n",
       "      <td>0.0</td>\n",
       "      <td>0.0</td>\n",
       "      <td>0.0</td>\n",
       "      <td>0.0</td>\n",
       "      <td>680.0</td>\n",
       "      <td>821.0</td>\n",
       "      <td>848.0</td>\n",
       "    </tr>\n",
       "    <tr>\n",
       "      <th>19</th>\n",
       "      <td>D</td>\n",
       "      <td>J</td>\n",
       "      <td>CB</td>\n",
       "      <td>2</td>\n",
       "      <td>CB D J</td>\n",
       "      <td>0.0</td>\n",
       "      <td>0.0</td>\n",
       "      <td>0.0</td>\n",
       "      <td>0.0</td>\n",
       "      <td>0.0</td>\n",
       "      <td>...</td>\n",
       "      <td>0.0</td>\n",
       "      <td>0.0</td>\n",
       "      <td>0.0</td>\n",
       "      <td>827.0</td>\n",
       "      <td>0.0</td>\n",
       "      <td>748.0</td>\n",
       "      <td>809.0</td>\n",
       "      <td>798.0</td>\n",
       "      <td>858.0</td>\n",
       "      <td>780.0</td>\n",
       "    </tr>\n",
       "    <tr>\n",
       "      <th>20</th>\n",
       "      <td>E</td>\n",
       "      <td>J</td>\n",
       "      <td>CB</td>\n",
       "      <td>2</td>\n",
       "      <td>CB E J</td>\n",
       "      <td>0.0</td>\n",
       "      <td>0.0</td>\n",
       "      <td>0.0</td>\n",
       "      <td>0.0</td>\n",
       "      <td>0.0</td>\n",
       "      <td>...</td>\n",
       "      <td>0.0</td>\n",
       "      <td>0.0</td>\n",
       "      <td>0.0</td>\n",
       "      <td>0.0</td>\n",
       "      <td>0.0</td>\n",
       "      <td>0.0</td>\n",
       "      <td>0.0</td>\n",
       "      <td>0.0</td>\n",
       "      <td>0.0</td>\n",
       "      <td>0.0</td>\n",
       "    </tr>\n",
       "    <tr>\n",
       "      <th>21</th>\n",
       "      <td>A</td>\n",
       "      <td>J</td>\n",
       "      <td>RD</td>\n",
       "      <td>6</td>\n",
       "      <td>RD A J</td>\n",
       "      <td>0.0</td>\n",
       "      <td>0.0</td>\n",
       "      <td>367.0</td>\n",
       "      <td>460.0</td>\n",
       "      <td>402.0</td>\n",
       "      <td>...</td>\n",
       "      <td>492.0</td>\n",
       "      <td>260.0</td>\n",
       "      <td>633.0</td>\n",
       "      <td>0.0</td>\n",
       "      <td>0.0</td>\n",
       "      <td>1900.0</td>\n",
       "      <td>486.0</td>\n",
       "      <td>548.0</td>\n",
       "      <td>552.0</td>\n",
       "      <td>608.0</td>\n",
       "    </tr>\n",
       "    <tr>\n",
       "      <th>22</th>\n",
       "      <td>A</td>\n",
       "      <td>S</td>\n",
       "      <td>RD</td>\n",
       "      <td>7</td>\n",
       "      <td>RD A S</td>\n",
       "      <td>0.0</td>\n",
       "      <td>0.0</td>\n",
       "      <td>414.0</td>\n",
       "      <td>499.0</td>\n",
       "      <td>431.0</td>\n",
       "      <td>...</td>\n",
       "      <td>534.0</td>\n",
       "      <td>381.0</td>\n",
       "      <td>455.0</td>\n",
       "      <td>545.0</td>\n",
       "      <td>0.0</td>\n",
       "      <td>495.0</td>\n",
       "      <td>462.0</td>\n",
       "      <td>498.0</td>\n",
       "      <td>596.0</td>\n",
       "      <td>613.0</td>\n",
       "    </tr>\n",
       "    <tr>\n",
       "      <th>23</th>\n",
       "      <td>C</td>\n",
       "      <td>S</td>\n",
       "      <td>RD</td>\n",
       "      <td>7</td>\n",
       "      <td>RD C S</td>\n",
       "      <td>0.0</td>\n",
       "      <td>0.0</td>\n",
       "      <td>0.0</td>\n",
       "      <td>0.0</td>\n",
       "      <td>0.0</td>\n",
       "      <td>...</td>\n",
       "      <td>0.0</td>\n",
       "      <td>0.0</td>\n",
       "      <td>0.0</td>\n",
       "      <td>0.0</td>\n",
       "      <td>0.0</td>\n",
       "      <td>0.0</td>\n",
       "      <td>0.0</td>\n",
       "      <td>0.0</td>\n",
       "      <td>0.0</td>\n",
       "      <td>0.0</td>\n",
       "    </tr>\n",
       "    <tr>\n",
       "      <th>24</th>\n",
       "      <td>D</td>\n",
       "      <td>J</td>\n",
       "      <td>RD</td>\n",
       "      <td>6</td>\n",
       "      <td>RD D J</td>\n",
       "      <td>0.0</td>\n",
       "      <td>0.0</td>\n",
       "      <td>382.0</td>\n",
       "      <td>431.0</td>\n",
       "      <td>394.0</td>\n",
       "      <td>...</td>\n",
       "      <td>0.0</td>\n",
       "      <td>0.0</td>\n",
       "      <td>0.0</td>\n",
       "      <td>0.0</td>\n",
       "      <td>0.0</td>\n",
       "      <td>0.0</td>\n",
       "      <td>0.0</td>\n",
       "      <td>0.0</td>\n",
       "      <td>537.0</td>\n",
       "      <td>642.0</td>\n",
       "    </tr>\n",
       "    <tr>\n",
       "      <th>25</th>\n",
       "      <td>D</td>\n",
       "      <td>S</td>\n",
       "      <td>RD</td>\n",
       "      <td>7</td>\n",
       "      <td>RD D S</td>\n",
       "      <td>0.0</td>\n",
       "      <td>0.0</td>\n",
       "      <td>396.0</td>\n",
       "      <td>445.0</td>\n",
       "      <td>408.0</td>\n",
       "      <td>...</td>\n",
       "      <td>479.0</td>\n",
       "      <td>528.0</td>\n",
       "      <td>495.0</td>\n",
       "      <td>573.0</td>\n",
       "      <td>0.0</td>\n",
       "      <td>626.0</td>\n",
       "      <td>571.0</td>\n",
       "      <td>600.0</td>\n",
       "      <td>609.0</td>\n",
       "      <td>601.0</td>\n",
       "    </tr>\n",
       "    <tr>\n",
       "      <th>26</th>\n",
       "      <td>E</td>\n",
       "      <td>J</td>\n",
       "      <td>RD</td>\n",
       "      <td>6</td>\n",
       "      <td>RD E J</td>\n",
       "      <td>0.0</td>\n",
       "      <td>0.0</td>\n",
       "      <td>0.0</td>\n",
       "      <td>470.0</td>\n",
       "      <td>450.0</td>\n",
       "      <td>...</td>\n",
       "      <td>593.0</td>\n",
       "      <td>0.0</td>\n",
       "      <td>557.0</td>\n",
       "      <td>664.0</td>\n",
       "      <td>0.0</td>\n",
       "      <td>561.0</td>\n",
       "      <td>615.0</td>\n",
       "      <td>0.0</td>\n",
       "      <td>616.0</td>\n",
       "      <td>666.0</td>\n",
       "    </tr>\n",
       "    <tr>\n",
       "      <th>27</th>\n",
       "      <td>E</td>\n",
       "      <td>S</td>\n",
       "      <td>RD</td>\n",
       "      <td>7</td>\n",
       "      <td>RD E S</td>\n",
       "      <td>0.0</td>\n",
       "      <td>0.0</td>\n",
       "      <td>0.0</td>\n",
       "      <td>437.0</td>\n",
       "      <td>492.0</td>\n",
       "      <td>...</td>\n",
       "      <td>0.0</td>\n",
       "      <td>0.0</td>\n",
       "      <td>0.0</td>\n",
       "      <td>0.0</td>\n",
       "      <td>0.0</td>\n",
       "      <td>555.0</td>\n",
       "      <td>616.0</td>\n",
       "      <td>709.0</td>\n",
       "      <td>678.0</td>\n",
       "      <td>0.0</td>\n",
       "    </tr>\n",
       "    <tr>\n",
       "      <th>28</th>\n",
       "      <td>A</td>\n",
       "      <td>J</td>\n",
       "      <td>BC</td>\n",
       "      <td>0</td>\n",
       "      <td>BC A J</td>\n",
       "      <td>0.0</td>\n",
       "      <td>0.0</td>\n",
       "      <td>2559.0</td>\n",
       "      <td>2425.0</td>\n",
       "      <td>2097.0</td>\n",
       "      <td>...</td>\n",
       "      <td>2611.0</td>\n",
       "      <td>2071.0</td>\n",
       "      <td>2028.0</td>\n",
       "      <td>2222.0</td>\n",
       "      <td>0.0</td>\n",
       "      <td>2357.0</td>\n",
       "      <td>3307.0</td>\n",
       "      <td>3392.0</td>\n",
       "      <td>2936.0</td>\n",
       "      <td>2850.0</td>\n",
       "    </tr>\n",
       "    <tr>\n",
       "      <th>29</th>\n",
       "      <td>A</td>\n",
       "      <td>S</td>\n",
       "      <td>BC</td>\n",
       "      <td>1</td>\n",
       "      <td>BC A S</td>\n",
       "      <td>0.0</td>\n",
       "      <td>0.0</td>\n",
       "      <td>2188.0</td>\n",
       "      <td>2455.0</td>\n",
       "      <td>2242.0</td>\n",
       "      <td>...</td>\n",
       "      <td>2378.0</td>\n",
       "      <td>2197.0</td>\n",
       "      <td>2060.0</td>\n",
       "      <td>2222.0</td>\n",
       "      <td>0.0</td>\n",
       "      <td>2378.0</td>\n",
       "      <td>3218.0</td>\n",
       "      <td>3838.0</td>\n",
       "      <td>3067.0</td>\n",
       "      <td>2875.0</td>\n",
       "    </tr>\n",
       "    <tr>\n",
       "      <th>30</th>\n",
       "      <td>B</td>\n",
       "      <td>J</td>\n",
       "      <td>BC</td>\n",
       "      <td>0</td>\n",
       "      <td>BC B J</td>\n",
       "      <td>0.0</td>\n",
       "      <td>0.0</td>\n",
       "      <td>2440.0</td>\n",
       "      <td>2348.0</td>\n",
       "      <td>2100.0</td>\n",
       "      <td>...</td>\n",
       "      <td>2160.0</td>\n",
       "      <td>2014.0</td>\n",
       "      <td>2097.0</td>\n",
       "      <td>2299.0</td>\n",
       "      <td>0.0</td>\n",
       "      <td>2610.0</td>\n",
       "      <td>3035.0</td>\n",
       "      <td>3323.0</td>\n",
       "      <td>2685.0</td>\n",
       "      <td>2558.0</td>\n",
       "    </tr>\n",
       "    <tr>\n",
       "      <th>31</th>\n",
       "      <td>B</td>\n",
       "      <td>S</td>\n",
       "      <td>BC</td>\n",
       "      <td>1</td>\n",
       "      <td>BC B S</td>\n",
       "      <td>0.0</td>\n",
       "      <td>0.0</td>\n",
       "      <td>0.0</td>\n",
       "      <td>0.0</td>\n",
       "      <td>0.0</td>\n",
       "      <td>...</td>\n",
       "      <td>0.0</td>\n",
       "      <td>0.0</td>\n",
       "      <td>0.0</td>\n",
       "      <td>0.0</td>\n",
       "      <td>0.0</td>\n",
       "      <td>0.0</td>\n",
       "      <td>0.0</td>\n",
       "      <td>0.0</td>\n",
       "      <td>0.0</td>\n",
       "      <td>0.0</td>\n",
       "    </tr>\n",
       "    <tr>\n",
       "      <th>32</th>\n",
       "      <td>C</td>\n",
       "      <td>J</td>\n",
       "      <td>BC</td>\n",
       "      <td>0</td>\n",
       "      <td>BC C J</td>\n",
       "      <td>0.0</td>\n",
       "      <td>0.0</td>\n",
       "      <td>2079.0</td>\n",
       "      <td>2020.0</td>\n",
       "      <td>1849.0</td>\n",
       "      <td>...</td>\n",
       "      <td>2289.0</td>\n",
       "      <td>2051.0</td>\n",
       "      <td>1864.0</td>\n",
       "      <td>2069.0</td>\n",
       "      <td>0.0</td>\n",
       "      <td>1859.0</td>\n",
       "      <td>2873.0</td>\n",
       "      <td>2839.0</td>\n",
       "      <td>2070.0</td>\n",
       "      <td>2934.0</td>\n",
       "    </tr>\n",
       "    <tr>\n",
       "      <th>33</th>\n",
       "      <td>C</td>\n",
       "      <td>S</td>\n",
       "      <td>BC</td>\n",
       "      <td>1</td>\n",
       "      <td>BC C S</td>\n",
       "      <td>0.0</td>\n",
       "      <td>0.0</td>\n",
       "      <td>0.0</td>\n",
       "      <td>0.0</td>\n",
       "      <td>1625.0</td>\n",
       "      <td>...</td>\n",
       "      <td>0.0</td>\n",
       "      <td>0.0</td>\n",
       "      <td>0.0</td>\n",
       "      <td>0.0</td>\n",
       "      <td>0.0</td>\n",
       "      <td>0.0</td>\n",
       "      <td>0.0</td>\n",
       "      <td>0.0</td>\n",
       "      <td>0.0</td>\n",
       "      <td>0.0</td>\n",
       "    </tr>\n",
       "    <tr>\n",
       "      <th>34</th>\n",
       "      <td>D</td>\n",
       "      <td>J</td>\n",
       "      <td>BC</td>\n",
       "      <td>0</td>\n",
       "      <td>BC D J</td>\n",
       "      <td>0.0</td>\n",
       "      <td>0.0</td>\n",
       "      <td>2253.0</td>\n",
       "      <td>2175.0</td>\n",
       "      <td>1981.0</td>\n",
       "      <td>...</td>\n",
       "      <td>1938.0</td>\n",
       "      <td>2006.0</td>\n",
       "      <td>1956.0</td>\n",
       "      <td>2355.0</td>\n",
       "      <td>0.0</td>\n",
       "      <td>2473.0</td>\n",
       "      <td>2896.0</td>\n",
       "      <td>3487.0</td>\n",
       "      <td>3185.0</td>\n",
       "      <td>3059.0</td>\n",
       "    </tr>\n",
       "    <tr>\n",
       "      <th>35</th>\n",
       "      <td>E</td>\n",
       "      <td>J</td>\n",
       "      <td>BC</td>\n",
       "      <td>0</td>\n",
       "      <td>BC E J</td>\n",
       "      <td>0.0</td>\n",
       "      <td>0.0</td>\n",
       "      <td>2379.0</td>\n",
       "      <td>2257.0</td>\n",
       "      <td>1857.0</td>\n",
       "      <td>...</td>\n",
       "      <td>2112.0</td>\n",
       "      <td>1903.0</td>\n",
       "      <td>1912.0</td>\n",
       "      <td>2234.0</td>\n",
       "      <td>0.0</td>\n",
       "      <td>2492.0</td>\n",
       "      <td>3480.0</td>\n",
       "      <td>3793.0</td>\n",
       "      <td>3144.0</td>\n",
       "      <td>3045.0</td>\n",
       "    </tr>\n",
       "    <tr>\n",
       "      <th>36</th>\n",
       "      <td>E</td>\n",
       "      <td>S</td>\n",
       "      <td>BC</td>\n",
       "      <td>1</td>\n",
       "      <td>BC E S</td>\n",
       "      <td>0.0</td>\n",
       "      <td>0.0</td>\n",
       "      <td>0.0</td>\n",
       "      <td>2301.0</td>\n",
       "      <td>1880.0</td>\n",
       "      <td>...</td>\n",
       "      <td>2365.0</td>\n",
       "      <td>2195.0</td>\n",
       "      <td>2025.0</td>\n",
       "      <td>2353.0</td>\n",
       "      <td>0.0</td>\n",
       "      <td>2488.0</td>\n",
       "      <td>3232.0</td>\n",
       "      <td>3816.0</td>\n",
       "      <td>3321.0</td>\n",
       "      <td>2939.0</td>\n",
       "    </tr>\n",
       "    <tr>\n",
       "      <th>37</th>\n",
       "      <td>F</td>\n",
       "      <td>J</td>\n",
       "      <td>CB</td>\n",
       "      <td>2</td>\n",
       "      <td>CB F J</td>\n",
       "      <td>0.0</td>\n",
       "      <td>0.0</td>\n",
       "      <td>478.0</td>\n",
       "      <td>600.0</td>\n",
       "      <td>536.0</td>\n",
       "      <td>...</td>\n",
       "      <td>671.0</td>\n",
       "      <td>631.0</td>\n",
       "      <td>641.0</td>\n",
       "      <td>579.0</td>\n",
       "      <td>0.0</td>\n",
       "      <td>652.0</td>\n",
       "      <td>672.0</td>\n",
       "      <td>621.0</td>\n",
       "      <td>653.0</td>\n",
       "      <td>643.0</td>\n",
       "    </tr>\n",
       "    <tr>\n",
       "      <th>38</th>\n",
       "      <td>F</td>\n",
       "      <td>J</td>\n",
       "      <td>RD</td>\n",
       "      <td>6</td>\n",
       "      <td>RD F J</td>\n",
       "      <td>0.0</td>\n",
       "      <td>0.0</td>\n",
       "      <td>395.0</td>\n",
       "      <td>437.0</td>\n",
       "      <td>425.0</td>\n",
       "      <td>...</td>\n",
       "      <td>440.0</td>\n",
       "      <td>396.0</td>\n",
       "      <td>388.0</td>\n",
       "      <td>429.0</td>\n",
       "      <td>0.0</td>\n",
       "      <td>468.0</td>\n",
       "      <td>531.0</td>\n",
       "      <td>574.0</td>\n",
       "      <td>523.0</td>\n",
       "      <td>529.0</td>\n",
       "    </tr>\n",
       "  </tbody>\n",
       "</table>\n",
       "<p>39 rows × 1528 columns</p>\n",
       "</div>"
      ],
      "text/plain": [
       "   corp loca product  product_loca    item 2019-01-01 2019-01-02 2019-01-03  \\\n",
       "0     A    J      TG             8  TG A J        0.0        0.0     1728.0   \n",
       "1     A    S      TG             9  TG A S        0.0        0.0     2526.0   \n",
       "2     B    J      TG             8  TG B J        0.0        0.0     1692.0   \n",
       "3     B    S      TG             9  TG B S        0.0        0.0     1944.0   \n",
       "4     C    J      TG             8  TG C J        0.0        0.0     1965.0   \n",
       "5     C    S      TG             9  TG C S        0.0        0.0     2078.0   \n",
       "6     D    J      TG             8  TG D J        0.0        0.0     1616.0   \n",
       "7     D    S      TG             9  TG D S        0.0        0.0     2048.0   \n",
       "8     E    J      TG             8  TG E J        0.0        0.0     1692.0   \n",
       "9     E    S      TG             9  TG E S        0.0        0.0     2151.0   \n",
       "10    A    J      CR             4  CR A J        0.0        0.0        0.0   \n",
       "11    B    J      CR             4  CR B J        0.0        0.0     1177.0   \n",
       "12    C    J      CR             4  CR C J        0.0        0.0     1280.0   \n",
       "13    D    J      CR             4  CR D J        0.0        0.0        0.0   \n",
       "14    D    S      CR             5  CR D S        0.0        0.0        0.0   \n",
       "15    E    J      CR             4  CR E J        0.0        0.0     1163.0   \n",
       "16    E    S      CR             5  CR E S        0.0        0.0        0.0   \n",
       "17    A    J      CB             2  CB A J        0.0        0.0        0.0   \n",
       "18    A    S      CB             3  CB A S        0.0        0.0      510.0   \n",
       "19    D    J      CB             2  CB D J        0.0        0.0        0.0   \n",
       "20    E    J      CB             2  CB E J        0.0        0.0        0.0   \n",
       "21    A    J      RD             6  RD A J        0.0        0.0      367.0   \n",
       "22    A    S      RD             7  RD A S        0.0        0.0      414.0   \n",
       "23    C    S      RD             7  RD C S        0.0        0.0        0.0   \n",
       "24    D    J      RD             6  RD D J        0.0        0.0      382.0   \n",
       "25    D    S      RD             7  RD D S        0.0        0.0      396.0   \n",
       "26    E    J      RD             6  RD E J        0.0        0.0        0.0   \n",
       "27    E    S      RD             7  RD E S        0.0        0.0        0.0   \n",
       "28    A    J      BC             0  BC A J        0.0        0.0     2559.0   \n",
       "29    A    S      BC             1  BC A S        0.0        0.0     2188.0   \n",
       "30    B    J      BC             0  BC B J        0.0        0.0     2440.0   \n",
       "31    B    S      BC             1  BC B S        0.0        0.0        0.0   \n",
       "32    C    J      BC             0  BC C J        0.0        0.0     2079.0   \n",
       "33    C    S      BC             1  BC C S        0.0        0.0        0.0   \n",
       "34    D    J      BC             0  BC D J        0.0        0.0     2253.0   \n",
       "35    E    J      BC             0  BC E J        0.0        0.0     2379.0   \n",
       "36    E    S      BC             1  BC E S        0.0        0.0        0.0   \n",
       "37    F    J      CB             2  CB F J        0.0        0.0      478.0   \n",
       "38    F    J      RD             6  RD F J        0.0        0.0      395.0   \n",
       "\n",
       "   2019-01-04 2019-01-05  ... 2023-02-22 2023-02-23 2023-02-24 2023-02-25  \\\n",
       "0      1408.0     1250.0  ...     2813.0     2770.0     2633.0     3155.0   \n",
       "1      2134.0     2075.0  ...     3444.0     3481.0     3518.0     4201.0   \n",
       "2      1516.0     1471.0  ...     4175.0     6216.0     3558.0     2412.0   \n",
       "3      1815.0     1717.0  ...     3202.0     3478.0     3939.0     3677.0   \n",
       "4      1794.0     1773.0  ...     4017.0     4585.0     4835.0     5550.0   \n",
       "5      2002.0     1815.0  ...     3228.0     3484.0     3773.0     4298.0   \n",
       "6      1337.0     1234.0  ...        0.0        0.0     1838.0     1829.0   \n",
       "7      1757.0     1719.0  ...     2539.0     2955.0     3323.0     3321.0   \n",
       "8      1475.0     1392.0  ...     3157.0     4793.0     2403.0     1489.0   \n",
       "9      1829.0     2002.0  ...     3400.0     3349.0     3026.0     2946.0   \n",
       "10     1141.0     1133.0  ...     2377.0     2236.0     2224.0     2136.0   \n",
       "11        0.0        0.0  ...        0.0        0.0     3000.0        0.0   \n",
       "12        0.0     1399.0  ...     2192.0     2339.0     2120.0     2116.0   \n",
       "13     1326.0     1135.0  ...     2256.0     2238.0     2018.0        0.0   \n",
       "14        0.0        0.0  ...        0.0        0.0        0.0        0.0   \n",
       "15     1128.0     1176.0  ...     2029.0     2209.0     2097.0        0.0   \n",
       "16        0.0        0.0  ...        0.0        0.0        0.0        0.0   \n",
       "17        0.0      374.0  ...     1562.0     1562.0     1625.0        0.0   \n",
       "18      534.0      511.0  ...        0.0        0.0        0.0        0.0   \n",
       "19        0.0        0.0  ...        0.0        0.0        0.0      827.0   \n",
       "20        0.0        0.0  ...        0.0        0.0        0.0        0.0   \n",
       "21      460.0      402.0  ...      492.0      260.0      633.0        0.0   \n",
       "22      499.0      431.0  ...      534.0      381.0      455.0      545.0   \n",
       "23        0.0        0.0  ...        0.0        0.0        0.0        0.0   \n",
       "24      431.0      394.0  ...        0.0        0.0        0.0        0.0   \n",
       "25      445.0      408.0  ...      479.0      528.0      495.0      573.0   \n",
       "26      470.0      450.0  ...      593.0        0.0      557.0      664.0   \n",
       "27      437.0      492.0  ...        0.0        0.0        0.0        0.0   \n",
       "28     2425.0     2097.0  ...     2611.0     2071.0     2028.0     2222.0   \n",
       "29     2455.0     2242.0  ...     2378.0     2197.0     2060.0     2222.0   \n",
       "30     2348.0     2100.0  ...     2160.0     2014.0     2097.0     2299.0   \n",
       "31        0.0        0.0  ...        0.0        0.0        0.0        0.0   \n",
       "32     2020.0     1849.0  ...     2289.0     2051.0     1864.0     2069.0   \n",
       "33        0.0     1625.0  ...        0.0        0.0        0.0        0.0   \n",
       "34     2175.0     1981.0  ...     1938.0     2006.0     1956.0     2355.0   \n",
       "35     2257.0     1857.0  ...     2112.0     1903.0     1912.0     2234.0   \n",
       "36     2301.0     1880.0  ...     2365.0     2195.0     2025.0     2353.0   \n",
       "37      600.0      536.0  ...      671.0      631.0      641.0      579.0   \n",
       "38      437.0      425.0  ...      440.0      396.0      388.0      429.0   \n",
       "\n",
       "   2023-02-26 2023-02-27 2023-02-28 2023-03-01 2023-03-02 2023-03-03  \n",
       "0         0.0     2657.0     3922.0     3397.0     3195.0     3640.0  \n",
       "1         0.0     4166.0     4009.0     4173.0     4219.0     4089.0  \n",
       "2         0.0     3540.0     3141.0     6382.0     3558.0     3470.0  \n",
       "3         0.0     4057.0     3821.0     4037.0     4004.0     4241.0  \n",
       "4         0.0     5037.0     2643.0     3742.0     3983.0     5175.0  \n",
       "5         0.0     4180.0     4234.0     4357.0     4466.0     4748.0  \n",
       "6         0.0        0.0        0.0        0.0        0.0        0.0  \n",
       "7         0.0     3409.0     3236.0     4631.0     4114.0     4146.0  \n",
       "8         0.0     2620.0     1673.0        0.0     1904.0     1622.0  \n",
       "9         0.0     3418.0     3141.0     4235.0     3960.0     3791.0  \n",
       "10        0.0     1934.0     2162.0     2101.0     1839.0     3486.0  \n",
       "11        0.0     3000.0     2274.0        0.0        0.0        0.0  \n",
       "12        0.0     2002.0     2060.0     1890.0     1788.0     1758.0  \n",
       "13        0.0     2212.0     2050.0     2051.0     1933.0     1725.0  \n",
       "14        0.0        0.0        0.0        0.0        0.0        0.0  \n",
       "15        0.0     2111.0     2152.0     2085.0     1931.0     1777.0  \n",
       "16        0.0        0.0        0.0        0.0        0.0        0.0  \n",
       "17        0.0     1438.0      710.0      488.0     1312.0        0.0  \n",
       "18        0.0        0.0        0.0      680.0      821.0      848.0  \n",
       "19        0.0      748.0      809.0      798.0      858.0      780.0  \n",
       "20        0.0        0.0        0.0        0.0        0.0        0.0  \n",
       "21        0.0     1900.0      486.0      548.0      552.0      608.0  \n",
       "22        0.0      495.0      462.0      498.0      596.0      613.0  \n",
       "23        0.0        0.0        0.0        0.0        0.0        0.0  \n",
       "24        0.0        0.0        0.0        0.0      537.0      642.0  \n",
       "25        0.0      626.0      571.0      600.0      609.0      601.0  \n",
       "26        0.0      561.0      615.0        0.0      616.0      666.0  \n",
       "27        0.0      555.0      616.0      709.0      678.0        0.0  \n",
       "28        0.0     2357.0     3307.0     3392.0     2936.0     2850.0  \n",
       "29        0.0     2378.0     3218.0     3838.0     3067.0     2875.0  \n",
       "30        0.0     2610.0     3035.0     3323.0     2685.0     2558.0  \n",
       "31        0.0        0.0        0.0        0.0        0.0        0.0  \n",
       "32        0.0     1859.0     2873.0     2839.0     2070.0     2934.0  \n",
       "33        0.0        0.0        0.0        0.0        0.0        0.0  \n",
       "34        0.0     2473.0     2896.0     3487.0     3185.0     3059.0  \n",
       "35        0.0     2492.0     3480.0     3793.0     3144.0     3045.0  \n",
       "36        0.0     2488.0     3232.0     3816.0     3321.0     2939.0  \n",
       "37        0.0      652.0      672.0      621.0      653.0      643.0  \n",
       "38        0.0      468.0      531.0      574.0      523.0      529.0  \n",
       "\n",
       "[39 rows x 1528 columns]"
      ]
     },
     "execution_count": 28,
     "metadata": {},
     "output_type": "execute_result"
    }
   ],
   "source": [
    "price_df"
   ]
  },
  {
   "cell_type": "code",
   "execution_count": 43,
   "metadata": {},
   "outputs": [],
   "source": [
    "class LTSF_NLinear(torch.nn.Module):\n",
    "    def __init__(self, window_size, forecast_size, individual, feature_size):\n",
    "        super(LTSF_NLinear, self).__init__()\n",
    "        self.window_size = window_size\n",
    "        self.forecast_size = forecast_size\n",
    "        self.individual = individual\n",
    "        self.channels = feature_size\n",
    "        if self.individual:\n",
    "            self.Linear = torch.nn.ModuleList()\n",
    "            for i in range(self.channels):\n",
    "                self.Linear.append(torch.nn.Linear(self.window_size, self.forecast_size))\n",
    "        else:\n",
    "            self.Linear = torch.nn.Linear(self.window_size, self.forecast_size)\n",
    "\n",
    "    def forward(self, x):\n",
    "        seq_last = x[:,-1:,:].detach()\n",
    "        x = x - seq_last\n",
    "        if self.individual:\n",
    "            output = torch.zeros([x.size(0), self.forecast_size, x.size(2)],dtype=x.dtype).to(x.device)\n",
    "            for i in range(self.channels):\n",
    "                output[:,:,i] = self.Linear[i](x[:,:,i])\n",
    "            x = output\n",
    "        else:\n",
    "            x = self.Linear(x.permute(0,2,1)).permute(0,2,1)\n",
    "        x = x + seq_last\n",
    "        return x\n",
    "\n",
    "class Data(Dataset):\n",
    "    def __init__(self, X, Y):\n",
    "        self.X = X\n",
    "        self.Y = Y\n",
    "\n",
    "    def __len__(self):\n",
    "        return len(self.Y)\n",
    "    \n",
    "    def __getitem__(self, idx):\n",
    "        return self.X[idx], self.Y[idx]\n",
    "    "
   ]
  },
  {
   "cell_type": "code",
   "execution_count": 44,
   "metadata": {},
   "outputs": [],
   "source": [
    "# Function to reshape the data into a time series format for each ID\n",
    "def reshape_data(df):\n",
    "    time_series_data = []\n",
    "    for idx, row in df.iterrows():\n",
    "        sales_data = row[5:].values.astype(float)\n",
    "        time_series_data.append(sales_data)\n",
    "    return np.array(time_series_data)\n",
    "\n",
    "# Modified time_slide_df function to work with the current data format\n",
    "def time_slide_df(data, window_size, forecast_size):\n",
    "    data_list = []\n",
    "    dap_list = []\n",
    "    for idx in range(0, len(data) - window_size - forecast_size + 1):\n",
    "        x = data[idx:idx + window_size].reshape(window_size, 1)\n",
    "        y = data[idx + window_size:idx + window_size + forecast_size]\n",
    "        data_list.append(x)\n",
    "        dap_list.append(y)\n",
    "    return np.array(data_list, dtype='float32'), np.array(dap_list, dtype='float32')\n",
    "\n",
    "# Function to create DataLoader for each ID\n",
    "def create_dataloader(data, window_size, forecast_size, batch_size):\n",
    "    X, Y = time_slide_df(data, window_size, forecast_size)\n",
    "    print(f\"{X.shape} is X shape , {Y.shape} is Y shape \")\n",
    "    ds = Data(X, Y)\n",
    "    return DataLoader(ds, batch_size=batch_size, shuffle=True)\n",
    "\n",
    "# Reshape the data\n",
    "time_series_data = reshape_data(price_df)"
   ]
  },
  {
   "cell_type": "code",
   "execution_count": 42,
   "metadata": {},
   "outputs": [],
   "source": [
    "# Define the window size, forecast size, and batch size\n",
    "window_size = 128\n",
    "forecast_size = 28\n",
    "batch_size = 2048\n",
    "epoch_count = 777 #777\n",
    "lr = 0.001\n",
    "min_delta = 0.001\n",
    "patience = 10"
   ]
  },
  {
   "cell_type": "code",
   "execution_count": 45,
   "metadata": {},
   "outputs": [
    {
     "data": {
      "text/html": [
       "<div>\n",
       "<style scoped>\n",
       "    .dataframe tbody tr th:only-of-type {\n",
       "        vertical-align: middle;\n",
       "    }\n",
       "\n",
       "    .dataframe tbody tr th {\n",
       "        vertical-align: top;\n",
       "    }\n",
       "\n",
       "    .dataframe thead th {\n",
       "        text-align: right;\n",
       "    }\n",
       "</style>\n",
       "<table border=\"1\" class=\"dataframe\">\n",
       "  <thead>\n",
       "    <tr style=\"text-align: right;\">\n",
       "      <th></th>\n",
       "      <th>corp</th>\n",
       "      <th>loca</th>\n",
       "      <th>product</th>\n",
       "      <th>product_loca</th>\n",
       "      <th>item</th>\n",
       "      <th>2019-01-01</th>\n",
       "      <th>2019-01-02</th>\n",
       "      <th>2019-01-03</th>\n",
       "      <th>2019-01-04</th>\n",
       "      <th>2019-01-05</th>\n",
       "      <th>...</th>\n",
       "      <th>2023-02-22</th>\n",
       "      <th>2023-02-23</th>\n",
       "      <th>2023-02-24</th>\n",
       "      <th>2023-02-25</th>\n",
       "      <th>2023-02-26</th>\n",
       "      <th>2023-02-27</th>\n",
       "      <th>2023-02-28</th>\n",
       "      <th>2023-03-01</th>\n",
       "      <th>2023-03-02</th>\n",
       "      <th>2023-03-03</th>\n",
       "    </tr>\n",
       "  </thead>\n",
       "  <tbody>\n",
       "    <tr>\n",
       "      <th>0</th>\n",
       "      <td>A</td>\n",
       "      <td>J</td>\n",
       "      <td>TG</td>\n",
       "      <td>8</td>\n",
       "      <td>TG A J</td>\n",
       "      <td>0.0</td>\n",
       "      <td>0.0</td>\n",
       "      <td>1728.0</td>\n",
       "      <td>1408.0</td>\n",
       "      <td>1250.0</td>\n",
       "      <td>...</td>\n",
       "      <td>2813.0</td>\n",
       "      <td>2770.0</td>\n",
       "      <td>2633.0</td>\n",
       "      <td>3155.0</td>\n",
       "      <td>0.0</td>\n",
       "      <td>2657.0</td>\n",
       "      <td>3922.0</td>\n",
       "      <td>3397.0</td>\n",
       "      <td>3195.0</td>\n",
       "      <td>3640.0</td>\n",
       "    </tr>\n",
       "    <tr>\n",
       "      <th>1</th>\n",
       "      <td>A</td>\n",
       "      <td>S</td>\n",
       "      <td>TG</td>\n",
       "      <td>9</td>\n",
       "      <td>TG A S</td>\n",
       "      <td>0.0</td>\n",
       "      <td>0.0</td>\n",
       "      <td>2526.0</td>\n",
       "      <td>2134.0</td>\n",
       "      <td>2075.0</td>\n",
       "      <td>...</td>\n",
       "      <td>3444.0</td>\n",
       "      <td>3481.0</td>\n",
       "      <td>3518.0</td>\n",
       "      <td>4201.0</td>\n",
       "      <td>0.0</td>\n",
       "      <td>4166.0</td>\n",
       "      <td>4009.0</td>\n",
       "      <td>4173.0</td>\n",
       "      <td>4219.0</td>\n",
       "      <td>4089.0</td>\n",
       "    </tr>\n",
       "    <tr>\n",
       "      <th>2</th>\n",
       "      <td>B</td>\n",
       "      <td>J</td>\n",
       "      <td>TG</td>\n",
       "      <td>8</td>\n",
       "      <td>TG B J</td>\n",
       "      <td>0.0</td>\n",
       "      <td>0.0</td>\n",
       "      <td>1692.0</td>\n",
       "      <td>1516.0</td>\n",
       "      <td>1471.0</td>\n",
       "      <td>...</td>\n",
       "      <td>4175.0</td>\n",
       "      <td>6216.0</td>\n",
       "      <td>3558.0</td>\n",
       "      <td>2412.0</td>\n",
       "      <td>0.0</td>\n",
       "      <td>3540.0</td>\n",
       "      <td>3141.0</td>\n",
       "      <td>6382.0</td>\n",
       "      <td>3558.0</td>\n",
       "      <td>3470.0</td>\n",
       "    </tr>\n",
       "    <tr>\n",
       "      <th>3</th>\n",
       "      <td>B</td>\n",
       "      <td>S</td>\n",
       "      <td>TG</td>\n",
       "      <td>9</td>\n",
       "      <td>TG B S</td>\n",
       "      <td>0.0</td>\n",
       "      <td>0.0</td>\n",
       "      <td>1944.0</td>\n",
       "      <td>1815.0</td>\n",
       "      <td>1717.0</td>\n",
       "      <td>...</td>\n",
       "      <td>3202.0</td>\n",
       "      <td>3478.0</td>\n",
       "      <td>3939.0</td>\n",
       "      <td>3677.0</td>\n",
       "      <td>0.0</td>\n",
       "      <td>4057.0</td>\n",
       "      <td>3821.0</td>\n",
       "      <td>4037.0</td>\n",
       "      <td>4004.0</td>\n",
       "      <td>4241.0</td>\n",
       "    </tr>\n",
       "    <tr>\n",
       "      <th>4</th>\n",
       "      <td>C</td>\n",
       "      <td>J</td>\n",
       "      <td>TG</td>\n",
       "      <td>8</td>\n",
       "      <td>TG C J</td>\n",
       "      <td>0.0</td>\n",
       "      <td>0.0</td>\n",
       "      <td>1965.0</td>\n",
       "      <td>1794.0</td>\n",
       "      <td>1773.0</td>\n",
       "      <td>...</td>\n",
       "      <td>4017.0</td>\n",
       "      <td>4585.0</td>\n",
       "      <td>4835.0</td>\n",
       "      <td>5550.0</td>\n",
       "      <td>0.0</td>\n",
       "      <td>5037.0</td>\n",
       "      <td>2643.0</td>\n",
       "      <td>3742.0</td>\n",
       "      <td>3983.0</td>\n",
       "      <td>5175.0</td>\n",
       "    </tr>\n",
       "    <tr>\n",
       "      <th>5</th>\n",
       "      <td>C</td>\n",
       "      <td>S</td>\n",
       "      <td>TG</td>\n",
       "      <td>9</td>\n",
       "      <td>TG C S</td>\n",
       "      <td>0.0</td>\n",
       "      <td>0.0</td>\n",
       "      <td>2078.0</td>\n",
       "      <td>2002.0</td>\n",
       "      <td>1815.0</td>\n",
       "      <td>...</td>\n",
       "      <td>3228.0</td>\n",
       "      <td>3484.0</td>\n",
       "      <td>3773.0</td>\n",
       "      <td>4298.0</td>\n",
       "      <td>0.0</td>\n",
       "      <td>4180.0</td>\n",
       "      <td>4234.0</td>\n",
       "      <td>4357.0</td>\n",
       "      <td>4466.0</td>\n",
       "      <td>4748.0</td>\n",
       "    </tr>\n",
       "    <tr>\n",
       "      <th>6</th>\n",
       "      <td>D</td>\n",
       "      <td>J</td>\n",
       "      <td>TG</td>\n",
       "      <td>8</td>\n",
       "      <td>TG D J</td>\n",
       "      <td>0.0</td>\n",
       "      <td>0.0</td>\n",
       "      <td>1616.0</td>\n",
       "      <td>1337.0</td>\n",
       "      <td>1234.0</td>\n",
       "      <td>...</td>\n",
       "      <td>0.0</td>\n",
       "      <td>0.0</td>\n",
       "      <td>1838.0</td>\n",
       "      <td>1829.0</td>\n",
       "      <td>0.0</td>\n",
       "      <td>0.0</td>\n",
       "      <td>0.0</td>\n",
       "      <td>0.0</td>\n",
       "      <td>0.0</td>\n",
       "      <td>0.0</td>\n",
       "    </tr>\n",
       "    <tr>\n",
       "      <th>7</th>\n",
       "      <td>D</td>\n",
       "      <td>S</td>\n",
       "      <td>TG</td>\n",
       "      <td>9</td>\n",
       "      <td>TG D S</td>\n",
       "      <td>0.0</td>\n",
       "      <td>0.0</td>\n",
       "      <td>2048.0</td>\n",
       "      <td>1757.0</td>\n",
       "      <td>1719.0</td>\n",
       "      <td>...</td>\n",
       "      <td>2539.0</td>\n",
       "      <td>2955.0</td>\n",
       "      <td>3323.0</td>\n",
       "      <td>3321.0</td>\n",
       "      <td>0.0</td>\n",
       "      <td>3409.0</td>\n",
       "      <td>3236.0</td>\n",
       "      <td>4631.0</td>\n",
       "      <td>4114.0</td>\n",
       "      <td>4146.0</td>\n",
       "    </tr>\n",
       "    <tr>\n",
       "      <th>8</th>\n",
       "      <td>E</td>\n",
       "      <td>J</td>\n",
       "      <td>TG</td>\n",
       "      <td>8</td>\n",
       "      <td>TG E J</td>\n",
       "      <td>0.0</td>\n",
       "      <td>0.0</td>\n",
       "      <td>1692.0</td>\n",
       "      <td>1475.0</td>\n",
       "      <td>1392.0</td>\n",
       "      <td>...</td>\n",
       "      <td>3157.0</td>\n",
       "      <td>4793.0</td>\n",
       "      <td>2403.0</td>\n",
       "      <td>1489.0</td>\n",
       "      <td>0.0</td>\n",
       "      <td>2620.0</td>\n",
       "      <td>1673.0</td>\n",
       "      <td>0.0</td>\n",
       "      <td>1904.0</td>\n",
       "      <td>1622.0</td>\n",
       "    </tr>\n",
       "    <tr>\n",
       "      <th>9</th>\n",
       "      <td>E</td>\n",
       "      <td>S</td>\n",
       "      <td>TG</td>\n",
       "      <td>9</td>\n",
       "      <td>TG E S</td>\n",
       "      <td>0.0</td>\n",
       "      <td>0.0</td>\n",
       "      <td>2151.0</td>\n",
       "      <td>1829.0</td>\n",
       "      <td>2002.0</td>\n",
       "      <td>...</td>\n",
       "      <td>3400.0</td>\n",
       "      <td>3349.0</td>\n",
       "      <td>3026.0</td>\n",
       "      <td>2946.0</td>\n",
       "      <td>0.0</td>\n",
       "      <td>3418.0</td>\n",
       "      <td>3141.0</td>\n",
       "      <td>4235.0</td>\n",
       "      <td>3960.0</td>\n",
       "      <td>3791.0</td>\n",
       "    </tr>\n",
       "    <tr>\n",
       "      <th>10</th>\n",
       "      <td>A</td>\n",
       "      <td>J</td>\n",
       "      <td>CR</td>\n",
       "      <td>4</td>\n",
       "      <td>CR A J</td>\n",
       "      <td>0.0</td>\n",
       "      <td>0.0</td>\n",
       "      <td>0.0</td>\n",
       "      <td>1141.0</td>\n",
       "      <td>1133.0</td>\n",
       "      <td>...</td>\n",
       "      <td>2377.0</td>\n",
       "      <td>2236.0</td>\n",
       "      <td>2224.0</td>\n",
       "      <td>2136.0</td>\n",
       "      <td>0.0</td>\n",
       "      <td>1934.0</td>\n",
       "      <td>2162.0</td>\n",
       "      <td>2101.0</td>\n",
       "      <td>1839.0</td>\n",
       "      <td>3486.0</td>\n",
       "    </tr>\n",
       "    <tr>\n",
       "      <th>11</th>\n",
       "      <td>B</td>\n",
       "      <td>J</td>\n",
       "      <td>CR</td>\n",
       "      <td>4</td>\n",
       "      <td>CR B J</td>\n",
       "      <td>0.0</td>\n",
       "      <td>0.0</td>\n",
       "      <td>1177.0</td>\n",
       "      <td>0.0</td>\n",
       "      <td>0.0</td>\n",
       "      <td>...</td>\n",
       "      <td>0.0</td>\n",
       "      <td>0.0</td>\n",
       "      <td>3000.0</td>\n",
       "      <td>0.0</td>\n",
       "      <td>0.0</td>\n",
       "      <td>3000.0</td>\n",
       "      <td>2274.0</td>\n",
       "      <td>0.0</td>\n",
       "      <td>0.0</td>\n",
       "      <td>0.0</td>\n",
       "    </tr>\n",
       "    <tr>\n",
       "      <th>12</th>\n",
       "      <td>C</td>\n",
       "      <td>J</td>\n",
       "      <td>CR</td>\n",
       "      <td>4</td>\n",
       "      <td>CR C J</td>\n",
       "      <td>0.0</td>\n",
       "      <td>0.0</td>\n",
       "      <td>1280.0</td>\n",
       "      <td>0.0</td>\n",
       "      <td>1399.0</td>\n",
       "      <td>...</td>\n",
       "      <td>2192.0</td>\n",
       "      <td>2339.0</td>\n",
       "      <td>2120.0</td>\n",
       "      <td>2116.0</td>\n",
       "      <td>0.0</td>\n",
       "      <td>2002.0</td>\n",
       "      <td>2060.0</td>\n",
       "      <td>1890.0</td>\n",
       "      <td>1788.0</td>\n",
       "      <td>1758.0</td>\n",
       "    </tr>\n",
       "    <tr>\n",
       "      <th>13</th>\n",
       "      <td>D</td>\n",
       "      <td>J</td>\n",
       "      <td>CR</td>\n",
       "      <td>4</td>\n",
       "      <td>CR D J</td>\n",
       "      <td>0.0</td>\n",
       "      <td>0.0</td>\n",
       "      <td>0.0</td>\n",
       "      <td>1326.0</td>\n",
       "      <td>1135.0</td>\n",
       "      <td>...</td>\n",
       "      <td>2256.0</td>\n",
       "      <td>2238.0</td>\n",
       "      <td>2018.0</td>\n",
       "      <td>0.0</td>\n",
       "      <td>0.0</td>\n",
       "      <td>2212.0</td>\n",
       "      <td>2050.0</td>\n",
       "      <td>2051.0</td>\n",
       "      <td>1933.0</td>\n",
       "      <td>1725.0</td>\n",
       "    </tr>\n",
       "    <tr>\n",
       "      <th>14</th>\n",
       "      <td>D</td>\n",
       "      <td>S</td>\n",
       "      <td>CR</td>\n",
       "      <td>5</td>\n",
       "      <td>CR D S</td>\n",
       "      <td>0.0</td>\n",
       "      <td>0.0</td>\n",
       "      <td>0.0</td>\n",
       "      <td>0.0</td>\n",
       "      <td>0.0</td>\n",
       "      <td>...</td>\n",
       "      <td>0.0</td>\n",
       "      <td>0.0</td>\n",
       "      <td>0.0</td>\n",
       "      <td>0.0</td>\n",
       "      <td>0.0</td>\n",
       "      <td>0.0</td>\n",
       "      <td>0.0</td>\n",
       "      <td>0.0</td>\n",
       "      <td>0.0</td>\n",
       "      <td>0.0</td>\n",
       "    </tr>\n",
       "    <tr>\n",
       "      <th>15</th>\n",
       "      <td>E</td>\n",
       "      <td>J</td>\n",
       "      <td>CR</td>\n",
       "      <td>4</td>\n",
       "      <td>CR E J</td>\n",
       "      <td>0.0</td>\n",
       "      <td>0.0</td>\n",
       "      <td>1163.0</td>\n",
       "      <td>1128.0</td>\n",
       "      <td>1176.0</td>\n",
       "      <td>...</td>\n",
       "      <td>2029.0</td>\n",
       "      <td>2209.0</td>\n",
       "      <td>2097.0</td>\n",
       "      <td>0.0</td>\n",
       "      <td>0.0</td>\n",
       "      <td>2111.0</td>\n",
       "      <td>2152.0</td>\n",
       "      <td>2085.0</td>\n",
       "      <td>1931.0</td>\n",
       "      <td>1777.0</td>\n",
       "    </tr>\n",
       "    <tr>\n",
       "      <th>16</th>\n",
       "      <td>E</td>\n",
       "      <td>S</td>\n",
       "      <td>CR</td>\n",
       "      <td>5</td>\n",
       "      <td>CR E S</td>\n",
       "      <td>0.0</td>\n",
       "      <td>0.0</td>\n",
       "      <td>0.0</td>\n",
       "      <td>0.0</td>\n",
       "      <td>0.0</td>\n",
       "      <td>...</td>\n",
       "      <td>0.0</td>\n",
       "      <td>0.0</td>\n",
       "      <td>0.0</td>\n",
       "      <td>0.0</td>\n",
       "      <td>0.0</td>\n",
       "      <td>0.0</td>\n",
       "      <td>0.0</td>\n",
       "      <td>0.0</td>\n",
       "      <td>0.0</td>\n",
       "      <td>0.0</td>\n",
       "    </tr>\n",
       "    <tr>\n",
       "      <th>17</th>\n",
       "      <td>A</td>\n",
       "      <td>J</td>\n",
       "      <td>CB</td>\n",
       "      <td>2</td>\n",
       "      <td>CB A J</td>\n",
       "      <td>0.0</td>\n",
       "      <td>0.0</td>\n",
       "      <td>0.0</td>\n",
       "      <td>0.0</td>\n",
       "      <td>374.0</td>\n",
       "      <td>...</td>\n",
       "      <td>1562.0</td>\n",
       "      <td>1562.0</td>\n",
       "      <td>1625.0</td>\n",
       "      <td>0.0</td>\n",
       "      <td>0.0</td>\n",
       "      <td>1438.0</td>\n",
       "      <td>710.0</td>\n",
       "      <td>488.0</td>\n",
       "      <td>1312.0</td>\n",
       "      <td>0.0</td>\n",
       "    </tr>\n",
       "    <tr>\n",
       "      <th>18</th>\n",
       "      <td>A</td>\n",
       "      <td>S</td>\n",
       "      <td>CB</td>\n",
       "      <td>3</td>\n",
       "      <td>CB A S</td>\n",
       "      <td>0.0</td>\n",
       "      <td>0.0</td>\n",
       "      <td>510.0</td>\n",
       "      <td>534.0</td>\n",
       "      <td>511.0</td>\n",
       "      <td>...</td>\n",
       "      <td>0.0</td>\n",
       "      <td>0.0</td>\n",
       "      <td>0.0</td>\n",
       "      <td>0.0</td>\n",
       "      <td>0.0</td>\n",
       "      <td>0.0</td>\n",
       "      <td>0.0</td>\n",
       "      <td>680.0</td>\n",
       "      <td>821.0</td>\n",
       "      <td>848.0</td>\n",
       "    </tr>\n",
       "    <tr>\n",
       "      <th>19</th>\n",
       "      <td>D</td>\n",
       "      <td>J</td>\n",
       "      <td>CB</td>\n",
       "      <td>2</td>\n",
       "      <td>CB D J</td>\n",
       "      <td>0.0</td>\n",
       "      <td>0.0</td>\n",
       "      <td>0.0</td>\n",
       "      <td>0.0</td>\n",
       "      <td>0.0</td>\n",
       "      <td>...</td>\n",
       "      <td>0.0</td>\n",
       "      <td>0.0</td>\n",
       "      <td>0.0</td>\n",
       "      <td>827.0</td>\n",
       "      <td>0.0</td>\n",
       "      <td>748.0</td>\n",
       "      <td>809.0</td>\n",
       "      <td>798.0</td>\n",
       "      <td>858.0</td>\n",
       "      <td>780.0</td>\n",
       "    </tr>\n",
       "    <tr>\n",
       "      <th>20</th>\n",
       "      <td>E</td>\n",
       "      <td>J</td>\n",
       "      <td>CB</td>\n",
       "      <td>2</td>\n",
       "      <td>CB E J</td>\n",
       "      <td>0.0</td>\n",
       "      <td>0.0</td>\n",
       "      <td>0.0</td>\n",
       "      <td>0.0</td>\n",
       "      <td>0.0</td>\n",
       "      <td>...</td>\n",
       "      <td>0.0</td>\n",
       "      <td>0.0</td>\n",
       "      <td>0.0</td>\n",
       "      <td>0.0</td>\n",
       "      <td>0.0</td>\n",
       "      <td>0.0</td>\n",
       "      <td>0.0</td>\n",
       "      <td>0.0</td>\n",
       "      <td>0.0</td>\n",
       "      <td>0.0</td>\n",
       "    </tr>\n",
       "    <tr>\n",
       "      <th>21</th>\n",
       "      <td>A</td>\n",
       "      <td>J</td>\n",
       "      <td>RD</td>\n",
       "      <td>6</td>\n",
       "      <td>RD A J</td>\n",
       "      <td>0.0</td>\n",
       "      <td>0.0</td>\n",
       "      <td>367.0</td>\n",
       "      <td>460.0</td>\n",
       "      <td>402.0</td>\n",
       "      <td>...</td>\n",
       "      <td>492.0</td>\n",
       "      <td>260.0</td>\n",
       "      <td>633.0</td>\n",
       "      <td>0.0</td>\n",
       "      <td>0.0</td>\n",
       "      <td>1900.0</td>\n",
       "      <td>486.0</td>\n",
       "      <td>548.0</td>\n",
       "      <td>552.0</td>\n",
       "      <td>608.0</td>\n",
       "    </tr>\n",
       "    <tr>\n",
       "      <th>22</th>\n",
       "      <td>A</td>\n",
       "      <td>S</td>\n",
       "      <td>RD</td>\n",
       "      <td>7</td>\n",
       "      <td>RD A S</td>\n",
       "      <td>0.0</td>\n",
       "      <td>0.0</td>\n",
       "      <td>414.0</td>\n",
       "      <td>499.0</td>\n",
       "      <td>431.0</td>\n",
       "      <td>...</td>\n",
       "      <td>534.0</td>\n",
       "      <td>381.0</td>\n",
       "      <td>455.0</td>\n",
       "      <td>545.0</td>\n",
       "      <td>0.0</td>\n",
       "      <td>495.0</td>\n",
       "      <td>462.0</td>\n",
       "      <td>498.0</td>\n",
       "      <td>596.0</td>\n",
       "      <td>613.0</td>\n",
       "    </tr>\n",
       "    <tr>\n",
       "      <th>23</th>\n",
       "      <td>C</td>\n",
       "      <td>S</td>\n",
       "      <td>RD</td>\n",
       "      <td>7</td>\n",
       "      <td>RD C S</td>\n",
       "      <td>0.0</td>\n",
       "      <td>0.0</td>\n",
       "      <td>0.0</td>\n",
       "      <td>0.0</td>\n",
       "      <td>0.0</td>\n",
       "      <td>...</td>\n",
       "      <td>0.0</td>\n",
       "      <td>0.0</td>\n",
       "      <td>0.0</td>\n",
       "      <td>0.0</td>\n",
       "      <td>0.0</td>\n",
       "      <td>0.0</td>\n",
       "      <td>0.0</td>\n",
       "      <td>0.0</td>\n",
       "      <td>0.0</td>\n",
       "      <td>0.0</td>\n",
       "    </tr>\n",
       "    <tr>\n",
       "      <th>24</th>\n",
       "      <td>D</td>\n",
       "      <td>J</td>\n",
       "      <td>RD</td>\n",
       "      <td>6</td>\n",
       "      <td>RD D J</td>\n",
       "      <td>0.0</td>\n",
       "      <td>0.0</td>\n",
       "      <td>382.0</td>\n",
       "      <td>431.0</td>\n",
       "      <td>394.0</td>\n",
       "      <td>...</td>\n",
       "      <td>0.0</td>\n",
       "      <td>0.0</td>\n",
       "      <td>0.0</td>\n",
       "      <td>0.0</td>\n",
       "      <td>0.0</td>\n",
       "      <td>0.0</td>\n",
       "      <td>0.0</td>\n",
       "      <td>0.0</td>\n",
       "      <td>537.0</td>\n",
       "      <td>642.0</td>\n",
       "    </tr>\n",
       "    <tr>\n",
       "      <th>25</th>\n",
       "      <td>D</td>\n",
       "      <td>S</td>\n",
       "      <td>RD</td>\n",
       "      <td>7</td>\n",
       "      <td>RD D S</td>\n",
       "      <td>0.0</td>\n",
       "      <td>0.0</td>\n",
       "      <td>396.0</td>\n",
       "      <td>445.0</td>\n",
       "      <td>408.0</td>\n",
       "      <td>...</td>\n",
       "      <td>479.0</td>\n",
       "      <td>528.0</td>\n",
       "      <td>495.0</td>\n",
       "      <td>573.0</td>\n",
       "      <td>0.0</td>\n",
       "      <td>626.0</td>\n",
       "      <td>571.0</td>\n",
       "      <td>600.0</td>\n",
       "      <td>609.0</td>\n",
       "      <td>601.0</td>\n",
       "    </tr>\n",
       "    <tr>\n",
       "      <th>26</th>\n",
       "      <td>E</td>\n",
       "      <td>J</td>\n",
       "      <td>RD</td>\n",
       "      <td>6</td>\n",
       "      <td>RD E J</td>\n",
       "      <td>0.0</td>\n",
       "      <td>0.0</td>\n",
       "      <td>0.0</td>\n",
       "      <td>470.0</td>\n",
       "      <td>450.0</td>\n",
       "      <td>...</td>\n",
       "      <td>593.0</td>\n",
       "      <td>0.0</td>\n",
       "      <td>557.0</td>\n",
       "      <td>664.0</td>\n",
       "      <td>0.0</td>\n",
       "      <td>561.0</td>\n",
       "      <td>615.0</td>\n",
       "      <td>0.0</td>\n",
       "      <td>616.0</td>\n",
       "      <td>666.0</td>\n",
       "    </tr>\n",
       "    <tr>\n",
       "      <th>27</th>\n",
       "      <td>E</td>\n",
       "      <td>S</td>\n",
       "      <td>RD</td>\n",
       "      <td>7</td>\n",
       "      <td>RD E S</td>\n",
       "      <td>0.0</td>\n",
       "      <td>0.0</td>\n",
       "      <td>0.0</td>\n",
       "      <td>437.0</td>\n",
       "      <td>492.0</td>\n",
       "      <td>...</td>\n",
       "      <td>0.0</td>\n",
       "      <td>0.0</td>\n",
       "      <td>0.0</td>\n",
       "      <td>0.0</td>\n",
       "      <td>0.0</td>\n",
       "      <td>555.0</td>\n",
       "      <td>616.0</td>\n",
       "      <td>709.0</td>\n",
       "      <td>678.0</td>\n",
       "      <td>0.0</td>\n",
       "    </tr>\n",
       "    <tr>\n",
       "      <th>28</th>\n",
       "      <td>A</td>\n",
       "      <td>J</td>\n",
       "      <td>BC</td>\n",
       "      <td>0</td>\n",
       "      <td>BC A J</td>\n",
       "      <td>0.0</td>\n",
       "      <td>0.0</td>\n",
       "      <td>2559.0</td>\n",
       "      <td>2425.0</td>\n",
       "      <td>2097.0</td>\n",
       "      <td>...</td>\n",
       "      <td>2611.0</td>\n",
       "      <td>2071.0</td>\n",
       "      <td>2028.0</td>\n",
       "      <td>2222.0</td>\n",
       "      <td>0.0</td>\n",
       "      <td>2357.0</td>\n",
       "      <td>3307.0</td>\n",
       "      <td>3392.0</td>\n",
       "      <td>2936.0</td>\n",
       "      <td>2850.0</td>\n",
       "    </tr>\n",
       "    <tr>\n",
       "      <th>29</th>\n",
       "      <td>A</td>\n",
       "      <td>S</td>\n",
       "      <td>BC</td>\n",
       "      <td>1</td>\n",
       "      <td>BC A S</td>\n",
       "      <td>0.0</td>\n",
       "      <td>0.0</td>\n",
       "      <td>2188.0</td>\n",
       "      <td>2455.0</td>\n",
       "      <td>2242.0</td>\n",
       "      <td>...</td>\n",
       "      <td>2378.0</td>\n",
       "      <td>2197.0</td>\n",
       "      <td>2060.0</td>\n",
       "      <td>2222.0</td>\n",
       "      <td>0.0</td>\n",
       "      <td>2378.0</td>\n",
       "      <td>3218.0</td>\n",
       "      <td>3838.0</td>\n",
       "      <td>3067.0</td>\n",
       "      <td>2875.0</td>\n",
       "    </tr>\n",
       "    <tr>\n",
       "      <th>30</th>\n",
       "      <td>B</td>\n",
       "      <td>J</td>\n",
       "      <td>BC</td>\n",
       "      <td>0</td>\n",
       "      <td>BC B J</td>\n",
       "      <td>0.0</td>\n",
       "      <td>0.0</td>\n",
       "      <td>2440.0</td>\n",
       "      <td>2348.0</td>\n",
       "      <td>2100.0</td>\n",
       "      <td>...</td>\n",
       "      <td>2160.0</td>\n",
       "      <td>2014.0</td>\n",
       "      <td>2097.0</td>\n",
       "      <td>2299.0</td>\n",
       "      <td>0.0</td>\n",
       "      <td>2610.0</td>\n",
       "      <td>3035.0</td>\n",
       "      <td>3323.0</td>\n",
       "      <td>2685.0</td>\n",
       "      <td>2558.0</td>\n",
       "    </tr>\n",
       "    <tr>\n",
       "      <th>31</th>\n",
       "      <td>B</td>\n",
       "      <td>S</td>\n",
       "      <td>BC</td>\n",
       "      <td>1</td>\n",
       "      <td>BC B S</td>\n",
       "      <td>0.0</td>\n",
       "      <td>0.0</td>\n",
       "      <td>0.0</td>\n",
       "      <td>0.0</td>\n",
       "      <td>0.0</td>\n",
       "      <td>...</td>\n",
       "      <td>0.0</td>\n",
       "      <td>0.0</td>\n",
       "      <td>0.0</td>\n",
       "      <td>0.0</td>\n",
       "      <td>0.0</td>\n",
       "      <td>0.0</td>\n",
       "      <td>0.0</td>\n",
       "      <td>0.0</td>\n",
       "      <td>0.0</td>\n",
       "      <td>0.0</td>\n",
       "    </tr>\n",
       "    <tr>\n",
       "      <th>32</th>\n",
       "      <td>C</td>\n",
       "      <td>J</td>\n",
       "      <td>BC</td>\n",
       "      <td>0</td>\n",
       "      <td>BC C J</td>\n",
       "      <td>0.0</td>\n",
       "      <td>0.0</td>\n",
       "      <td>2079.0</td>\n",
       "      <td>2020.0</td>\n",
       "      <td>1849.0</td>\n",
       "      <td>...</td>\n",
       "      <td>2289.0</td>\n",
       "      <td>2051.0</td>\n",
       "      <td>1864.0</td>\n",
       "      <td>2069.0</td>\n",
       "      <td>0.0</td>\n",
       "      <td>1859.0</td>\n",
       "      <td>2873.0</td>\n",
       "      <td>2839.0</td>\n",
       "      <td>2070.0</td>\n",
       "      <td>2934.0</td>\n",
       "    </tr>\n",
       "    <tr>\n",
       "      <th>33</th>\n",
       "      <td>C</td>\n",
       "      <td>S</td>\n",
       "      <td>BC</td>\n",
       "      <td>1</td>\n",
       "      <td>BC C S</td>\n",
       "      <td>0.0</td>\n",
       "      <td>0.0</td>\n",
       "      <td>0.0</td>\n",
       "      <td>0.0</td>\n",
       "      <td>1625.0</td>\n",
       "      <td>...</td>\n",
       "      <td>0.0</td>\n",
       "      <td>0.0</td>\n",
       "      <td>0.0</td>\n",
       "      <td>0.0</td>\n",
       "      <td>0.0</td>\n",
       "      <td>0.0</td>\n",
       "      <td>0.0</td>\n",
       "      <td>0.0</td>\n",
       "      <td>0.0</td>\n",
       "      <td>0.0</td>\n",
       "    </tr>\n",
       "    <tr>\n",
       "      <th>34</th>\n",
       "      <td>D</td>\n",
       "      <td>J</td>\n",
       "      <td>BC</td>\n",
       "      <td>0</td>\n",
       "      <td>BC D J</td>\n",
       "      <td>0.0</td>\n",
       "      <td>0.0</td>\n",
       "      <td>2253.0</td>\n",
       "      <td>2175.0</td>\n",
       "      <td>1981.0</td>\n",
       "      <td>...</td>\n",
       "      <td>1938.0</td>\n",
       "      <td>2006.0</td>\n",
       "      <td>1956.0</td>\n",
       "      <td>2355.0</td>\n",
       "      <td>0.0</td>\n",
       "      <td>2473.0</td>\n",
       "      <td>2896.0</td>\n",
       "      <td>3487.0</td>\n",
       "      <td>3185.0</td>\n",
       "      <td>3059.0</td>\n",
       "    </tr>\n",
       "    <tr>\n",
       "      <th>35</th>\n",
       "      <td>E</td>\n",
       "      <td>J</td>\n",
       "      <td>BC</td>\n",
       "      <td>0</td>\n",
       "      <td>BC E J</td>\n",
       "      <td>0.0</td>\n",
       "      <td>0.0</td>\n",
       "      <td>2379.0</td>\n",
       "      <td>2257.0</td>\n",
       "      <td>1857.0</td>\n",
       "      <td>...</td>\n",
       "      <td>2112.0</td>\n",
       "      <td>1903.0</td>\n",
       "      <td>1912.0</td>\n",
       "      <td>2234.0</td>\n",
       "      <td>0.0</td>\n",
       "      <td>2492.0</td>\n",
       "      <td>3480.0</td>\n",
       "      <td>3793.0</td>\n",
       "      <td>3144.0</td>\n",
       "      <td>3045.0</td>\n",
       "    </tr>\n",
       "    <tr>\n",
       "      <th>36</th>\n",
       "      <td>E</td>\n",
       "      <td>S</td>\n",
       "      <td>BC</td>\n",
       "      <td>1</td>\n",
       "      <td>BC E S</td>\n",
       "      <td>0.0</td>\n",
       "      <td>0.0</td>\n",
       "      <td>0.0</td>\n",
       "      <td>2301.0</td>\n",
       "      <td>1880.0</td>\n",
       "      <td>...</td>\n",
       "      <td>2365.0</td>\n",
       "      <td>2195.0</td>\n",
       "      <td>2025.0</td>\n",
       "      <td>2353.0</td>\n",
       "      <td>0.0</td>\n",
       "      <td>2488.0</td>\n",
       "      <td>3232.0</td>\n",
       "      <td>3816.0</td>\n",
       "      <td>3321.0</td>\n",
       "      <td>2939.0</td>\n",
       "    </tr>\n",
       "    <tr>\n",
       "      <th>37</th>\n",
       "      <td>F</td>\n",
       "      <td>J</td>\n",
       "      <td>CB</td>\n",
       "      <td>2</td>\n",
       "      <td>CB F J</td>\n",
       "      <td>0.0</td>\n",
       "      <td>0.0</td>\n",
       "      <td>478.0</td>\n",
       "      <td>600.0</td>\n",
       "      <td>536.0</td>\n",
       "      <td>...</td>\n",
       "      <td>671.0</td>\n",
       "      <td>631.0</td>\n",
       "      <td>641.0</td>\n",
       "      <td>579.0</td>\n",
       "      <td>0.0</td>\n",
       "      <td>652.0</td>\n",
       "      <td>672.0</td>\n",
       "      <td>621.0</td>\n",
       "      <td>653.0</td>\n",
       "      <td>643.0</td>\n",
       "    </tr>\n",
       "    <tr>\n",
       "      <th>38</th>\n",
       "      <td>F</td>\n",
       "      <td>J</td>\n",
       "      <td>RD</td>\n",
       "      <td>6</td>\n",
       "      <td>RD F J</td>\n",
       "      <td>0.0</td>\n",
       "      <td>0.0</td>\n",
       "      <td>395.0</td>\n",
       "      <td>437.0</td>\n",
       "      <td>425.0</td>\n",
       "      <td>...</td>\n",
       "      <td>440.0</td>\n",
       "      <td>396.0</td>\n",
       "      <td>388.0</td>\n",
       "      <td>429.0</td>\n",
       "      <td>0.0</td>\n",
       "      <td>468.0</td>\n",
       "      <td>531.0</td>\n",
       "      <td>574.0</td>\n",
       "      <td>523.0</td>\n",
       "      <td>529.0</td>\n",
       "    </tr>\n",
       "  </tbody>\n",
       "</table>\n",
       "<p>39 rows × 1528 columns</p>\n",
       "</div>"
      ],
      "text/plain": [
       "   corp loca product  product_loca    item 2019-01-01 2019-01-02 2019-01-03  \\\n",
       "0     A    J      TG             8  TG A J        0.0        0.0     1728.0   \n",
       "1     A    S      TG             9  TG A S        0.0        0.0     2526.0   \n",
       "2     B    J      TG             8  TG B J        0.0        0.0     1692.0   \n",
       "3     B    S      TG             9  TG B S        0.0        0.0     1944.0   \n",
       "4     C    J      TG             8  TG C J        0.0        0.0     1965.0   \n",
       "5     C    S      TG             9  TG C S        0.0        0.0     2078.0   \n",
       "6     D    J      TG             8  TG D J        0.0        0.0     1616.0   \n",
       "7     D    S      TG             9  TG D S        0.0        0.0     2048.0   \n",
       "8     E    J      TG             8  TG E J        0.0        0.0     1692.0   \n",
       "9     E    S      TG             9  TG E S        0.0        0.0     2151.0   \n",
       "10    A    J      CR             4  CR A J        0.0        0.0        0.0   \n",
       "11    B    J      CR             4  CR B J        0.0        0.0     1177.0   \n",
       "12    C    J      CR             4  CR C J        0.0        0.0     1280.0   \n",
       "13    D    J      CR             4  CR D J        0.0        0.0        0.0   \n",
       "14    D    S      CR             5  CR D S        0.0        0.0        0.0   \n",
       "15    E    J      CR             4  CR E J        0.0        0.0     1163.0   \n",
       "16    E    S      CR             5  CR E S        0.0        0.0        0.0   \n",
       "17    A    J      CB             2  CB A J        0.0        0.0        0.0   \n",
       "18    A    S      CB             3  CB A S        0.0        0.0      510.0   \n",
       "19    D    J      CB             2  CB D J        0.0        0.0        0.0   \n",
       "20    E    J      CB             2  CB E J        0.0        0.0        0.0   \n",
       "21    A    J      RD             6  RD A J        0.0        0.0      367.0   \n",
       "22    A    S      RD             7  RD A S        0.0        0.0      414.0   \n",
       "23    C    S      RD             7  RD C S        0.0        0.0        0.0   \n",
       "24    D    J      RD             6  RD D J        0.0        0.0      382.0   \n",
       "25    D    S      RD             7  RD D S        0.0        0.0      396.0   \n",
       "26    E    J      RD             6  RD E J        0.0        0.0        0.0   \n",
       "27    E    S      RD             7  RD E S        0.0        0.0        0.0   \n",
       "28    A    J      BC             0  BC A J        0.0        0.0     2559.0   \n",
       "29    A    S      BC             1  BC A S        0.0        0.0     2188.0   \n",
       "30    B    J      BC             0  BC B J        0.0        0.0     2440.0   \n",
       "31    B    S      BC             1  BC B S        0.0        0.0        0.0   \n",
       "32    C    J      BC             0  BC C J        0.0        0.0     2079.0   \n",
       "33    C    S      BC             1  BC C S        0.0        0.0        0.0   \n",
       "34    D    J      BC             0  BC D J        0.0        0.0     2253.0   \n",
       "35    E    J      BC             0  BC E J        0.0        0.0     2379.0   \n",
       "36    E    S      BC             1  BC E S        0.0        0.0        0.0   \n",
       "37    F    J      CB             2  CB F J        0.0        0.0      478.0   \n",
       "38    F    J      RD             6  RD F J        0.0        0.0      395.0   \n",
       "\n",
       "   2019-01-04 2019-01-05  ... 2023-02-22 2023-02-23 2023-02-24 2023-02-25  \\\n",
       "0      1408.0     1250.0  ...     2813.0     2770.0     2633.0     3155.0   \n",
       "1      2134.0     2075.0  ...     3444.0     3481.0     3518.0     4201.0   \n",
       "2      1516.0     1471.0  ...     4175.0     6216.0     3558.0     2412.0   \n",
       "3      1815.0     1717.0  ...     3202.0     3478.0     3939.0     3677.0   \n",
       "4      1794.0     1773.0  ...     4017.0     4585.0     4835.0     5550.0   \n",
       "5      2002.0     1815.0  ...     3228.0     3484.0     3773.0     4298.0   \n",
       "6      1337.0     1234.0  ...        0.0        0.0     1838.0     1829.0   \n",
       "7      1757.0     1719.0  ...     2539.0     2955.0     3323.0     3321.0   \n",
       "8      1475.0     1392.0  ...     3157.0     4793.0     2403.0     1489.0   \n",
       "9      1829.0     2002.0  ...     3400.0     3349.0     3026.0     2946.0   \n",
       "10     1141.0     1133.0  ...     2377.0     2236.0     2224.0     2136.0   \n",
       "11        0.0        0.0  ...        0.0        0.0     3000.0        0.0   \n",
       "12        0.0     1399.0  ...     2192.0     2339.0     2120.0     2116.0   \n",
       "13     1326.0     1135.0  ...     2256.0     2238.0     2018.0        0.0   \n",
       "14        0.0        0.0  ...        0.0        0.0        0.0        0.0   \n",
       "15     1128.0     1176.0  ...     2029.0     2209.0     2097.0        0.0   \n",
       "16        0.0        0.0  ...        0.0        0.0        0.0        0.0   \n",
       "17        0.0      374.0  ...     1562.0     1562.0     1625.0        0.0   \n",
       "18      534.0      511.0  ...        0.0        0.0        0.0        0.0   \n",
       "19        0.0        0.0  ...        0.0        0.0        0.0      827.0   \n",
       "20        0.0        0.0  ...        0.0        0.0        0.0        0.0   \n",
       "21      460.0      402.0  ...      492.0      260.0      633.0        0.0   \n",
       "22      499.0      431.0  ...      534.0      381.0      455.0      545.0   \n",
       "23        0.0        0.0  ...        0.0        0.0        0.0        0.0   \n",
       "24      431.0      394.0  ...        0.0        0.0        0.0        0.0   \n",
       "25      445.0      408.0  ...      479.0      528.0      495.0      573.0   \n",
       "26      470.0      450.0  ...      593.0        0.0      557.0      664.0   \n",
       "27      437.0      492.0  ...        0.0        0.0        0.0        0.0   \n",
       "28     2425.0     2097.0  ...     2611.0     2071.0     2028.0     2222.0   \n",
       "29     2455.0     2242.0  ...     2378.0     2197.0     2060.0     2222.0   \n",
       "30     2348.0     2100.0  ...     2160.0     2014.0     2097.0     2299.0   \n",
       "31        0.0        0.0  ...        0.0        0.0        0.0        0.0   \n",
       "32     2020.0     1849.0  ...     2289.0     2051.0     1864.0     2069.0   \n",
       "33        0.0     1625.0  ...        0.0        0.0        0.0        0.0   \n",
       "34     2175.0     1981.0  ...     1938.0     2006.0     1956.0     2355.0   \n",
       "35     2257.0     1857.0  ...     2112.0     1903.0     1912.0     2234.0   \n",
       "36     2301.0     1880.0  ...     2365.0     2195.0     2025.0     2353.0   \n",
       "37      600.0      536.0  ...      671.0      631.0      641.0      579.0   \n",
       "38      437.0      425.0  ...      440.0      396.0      388.0      429.0   \n",
       "\n",
       "   2023-02-26 2023-02-27 2023-02-28 2023-03-01 2023-03-02 2023-03-03  \n",
       "0         0.0     2657.0     3922.0     3397.0     3195.0     3640.0  \n",
       "1         0.0     4166.0     4009.0     4173.0     4219.0     4089.0  \n",
       "2         0.0     3540.0     3141.0     6382.0     3558.0     3470.0  \n",
       "3         0.0     4057.0     3821.0     4037.0     4004.0     4241.0  \n",
       "4         0.0     5037.0     2643.0     3742.0     3983.0     5175.0  \n",
       "5         0.0     4180.0     4234.0     4357.0     4466.0     4748.0  \n",
       "6         0.0        0.0        0.0        0.0        0.0        0.0  \n",
       "7         0.0     3409.0     3236.0     4631.0     4114.0     4146.0  \n",
       "8         0.0     2620.0     1673.0        0.0     1904.0     1622.0  \n",
       "9         0.0     3418.0     3141.0     4235.0     3960.0     3791.0  \n",
       "10        0.0     1934.0     2162.0     2101.0     1839.0     3486.0  \n",
       "11        0.0     3000.0     2274.0        0.0        0.0        0.0  \n",
       "12        0.0     2002.0     2060.0     1890.0     1788.0     1758.0  \n",
       "13        0.0     2212.0     2050.0     2051.0     1933.0     1725.0  \n",
       "14        0.0        0.0        0.0        0.0        0.0        0.0  \n",
       "15        0.0     2111.0     2152.0     2085.0     1931.0     1777.0  \n",
       "16        0.0        0.0        0.0        0.0        0.0        0.0  \n",
       "17        0.0     1438.0      710.0      488.0     1312.0        0.0  \n",
       "18        0.0        0.0        0.0      680.0      821.0      848.0  \n",
       "19        0.0      748.0      809.0      798.0      858.0      780.0  \n",
       "20        0.0        0.0        0.0        0.0        0.0        0.0  \n",
       "21        0.0     1900.0      486.0      548.0      552.0      608.0  \n",
       "22        0.0      495.0      462.0      498.0      596.0      613.0  \n",
       "23        0.0        0.0        0.0        0.0        0.0        0.0  \n",
       "24        0.0        0.0        0.0        0.0      537.0      642.0  \n",
       "25        0.0      626.0      571.0      600.0      609.0      601.0  \n",
       "26        0.0      561.0      615.0        0.0      616.0      666.0  \n",
       "27        0.0      555.0      616.0      709.0      678.0        0.0  \n",
       "28        0.0     2357.0     3307.0     3392.0     2936.0     2850.0  \n",
       "29        0.0     2378.0     3218.0     3838.0     3067.0     2875.0  \n",
       "30        0.0     2610.0     3035.0     3323.0     2685.0     2558.0  \n",
       "31        0.0        0.0        0.0        0.0        0.0        0.0  \n",
       "32        0.0     1859.0     2873.0     2839.0     2070.0     2934.0  \n",
       "33        0.0        0.0        0.0        0.0        0.0        0.0  \n",
       "34        0.0     2473.0     2896.0     3487.0     3185.0     3059.0  \n",
       "35        0.0     2492.0     3480.0     3793.0     3144.0     3045.0  \n",
       "36        0.0     2488.0     3232.0     3816.0     3321.0     2939.0  \n",
       "37        0.0      652.0      672.0      621.0      653.0      643.0  \n",
       "38        0.0      468.0      531.0      574.0      523.0      529.0  \n",
       "\n",
       "[39 rows x 1528 columns]"
      ]
     },
     "execution_count": 45,
     "metadata": {},
     "output_type": "execute_result"
    }
   ],
   "source": [
    "price_df"
   ]
  },
  {
   "cell_type": "code",
   "execution_count": 53,
   "metadata": {},
   "outputs": [
    {
     "data": {
      "application/vnd.jupyter.widget-view+json": {
       "model_id": "1fc35a10d65949f89ecf646499d12a3b",
       "version_major": 2,
       "version_minor": 0
      },
      "text/plain": [
       "  0%|          | 0/39 [00:00<?, ?it/s]"
      ]
     },
     "metadata": {},
     "output_type": "display_data"
    },
    {
     "name": "stdout",
     "output_type": "stream",
     "text": [
      "(1368, 128, 1) is X shape , (1368, 28) is Y shape \n",
      "128 (128,)\n"
     ]
    }
   ],
   "source": [
    "for idx, (id_val, data) in tqdm(enumerate(zip(price_df[\"item\"], time_series_data)), total=len(price_df[\"item\"])):\n",
    "    \n",
    "    if idx ==0 :\n",
    "        train_dl = create_dataloader(data, window_size, forecast_size, batch_size)\n",
    "        print(len(data[-window_size: ]),(data[-window_size: ].shape) )"
   ]
  },
  {
   "cell_type": "markdown",
   "metadata": {},
   "source": [
    "# Model Train\n"
   ]
  },
  {
   "cell_type": "code",
   "execution_count": 15,
   "metadata": {},
   "outputs": [],
   "source": [
    "# 3.001280905663967, 128, 2048, 777, 0.0015 이 경우가 제일 좋음 \n",
    "def test (window_size,forecast_size, batch_size , epoch_count , lr, patience ): \n",
    "    future_predictions_by_id = {}\n",
    "    loss_history = {}\n",
    "    last_losses = []\n",
    "    for idx, (id_val, data) in tqdm(enumerate(zip(price_df[\"item\"], time_series_data)), total=len(price_df[\"item\"])):\n",
    "        mean_ = np.mean(data)\n",
    "        std_ = np.std(data)\n",
    "        print(data.shape) \n",
    "        if std_ == 0:\n",
    "            standardized_data = data\n",
    "        else:\n",
    "            standardized_data = (data - mean_) / std_\n",
    "\n",
    "        individual_loss_history = []\n",
    "        # Create DataLoader\n",
    "        train_dl = create_dataloader(standardized_data, window_size, forecast_size, batch_size)\n",
    "        best_loss = float('inf')\n",
    "        no_improvement_count = 0\n",
    "\n",
    "        # Training the model\n",
    "        DLinear_model = LTSF_NLinear(window_size=window_size, forecast_size=28, individual=False, feature_size=1)\n",
    "        DLinear_model.to(device)\n",
    "        criterion = nn.MSELoss()\n",
    "        optimizer = torch.optim.Adam(DLinear_model.parameters(), lr=lr)\n",
    "        for epoch in range(1, epoch_count + 1):\n",
    "            loss_list = []\n",
    "            DLinear_model.train()\n",
    "            for batch_idx, (data, target) in enumerate(train_dl):\n",
    "                data, target = data.to(device), target.to(device)  # Move the data to the GPU if available\n",
    "                optimizer.zero_grad()\n",
    "                output = DLinear_model(data)\n",
    "                loss = criterion(output, target.unsqueeze(-1))\n",
    "                loss.backward()\n",
    "                optimizer.step()\n",
    "                loss_list.append(loss.item())\n",
    "            if((epoch % 10) == 0):\n",
    "                avg_loss = np.mean(loss_list)\n",
    "                # print(f\"Id {idx}, Epoch {epoch}: Loss = {avg_loss}, {id_val[:2]}\")\n",
    "                individual_loss_history.append(avg_loss)\n",
    "                if avg_loss + min_delta < best_loss:\n",
    "                    best_loss = avg_loss\n",
    "                    no_improvement_count = 0\n",
    "                else:\n",
    "                    no_improvement_count += 1\n",
    "                    if no_improvement_count >= patience:\n",
    "                        # print(f\"Early stopping at epoch {epoch} for ID {id_val} {idx} {avg_loss}\")\n",
    "                        weight = 0\n",
    "                        weight_dict = { \n",
    "                                'TG' : 0.256,\n",
    "                                'BC' : 0.23 ,\n",
    "                                'RD' :0.205,\n",
    "                                'CR' : 0.179,\n",
    "                                'CB' : 0.128 \n",
    "                                    }\n",
    "\n",
    "                        weight = weight_dict[id_val[:2]] \n",
    "\n",
    "                        \n",
    "                \n",
    "                        last_losses.append(avg_loss*weight)\n",
    "                        break\n",
    "\n",
    "\n",
    "        loss_history[id_val] = individual_loss_history\n",
    "\n",
    "        last_window_data = torch.tensor(standardized_data[-window_size:]).unsqueeze(0).unsqueeze(-1).float().to(device)\n",
    "        future_prediction = DLinear_model(last_window_data)\n",
    "\n",
    "        if std_ == 0:\n",
    "            future_prediction = future_prediction.squeeze().detach().cpu().numpy()\n",
    "        else:\n",
    "            future_prediction = future_prediction.squeeze().detach().cpu().numpy() * std_ + mean_\n",
    "\n",
    "        # Store the prediction\n",
    "        future_predictions_by_id[id_val] = future_prediction\n",
    "\n",
    "    # Future predictions for each ID from 2023-04-05 to 2023-04-25\n",
    "    # future_predictions_by_id\n",
    "    # print(sum(last_losses))\n",
    "    print(f\"window_size: {window_size}, batch_size:{batch_size} , epoch :{epoch_count}, lr:{lr}, patience: {patience}, loss:{sum(last_losses)}\")\n",
    "    return future_predictions_by_id"
   ]
  },
  {
   "cell_type": "code",
   "execution_count": 16,
   "metadata": {},
   "outputs": [
    {
     "data": {
      "application/vnd.jupyter.widget-view+json": {
       "model_id": "6276e62223fb414dba9e90b2ddd9f46e",
       "version_major": 2,
       "version_minor": 0
      },
      "text/plain": [
       "  0%|          | 0/39 [00:00<?, ?it/s]"
      ]
     },
     "metadata": {},
     "output_type": "display_data"
    },
    {
     "name": "stdout",
     "output_type": "stream",
     "text": [
      "window_size: 128, batch_size:2048 , epoch :777, lr:0.0015, patience: 10, loss:3.1894988511204723\n"
     ]
    }
   ],
   "source": [
    "future_predictions_by_id= test(128,28 , 2048 , 777 , 0.0015, 10 )"
   ]
  },
  {
   "cell_type": "code",
   "execution_count": 34,
   "metadata": {},
   "outputs": [
    {
     "data": {
      "application/vnd.jupyter.widget-view+json": {
       "model_id": "e1275639e05d4571890ad5f1cd875cfb",
       "version_major": 2,
       "version_minor": 0
      },
      "text/plain": [
       "  0%|          | 0/5 [00:00<?, ?it/s]"
      ]
     },
     "metadata": {},
     "output_type": "display_data"
    },
    {
     "data": {
      "application/vnd.jupyter.widget-view+json": {
       "model_id": "9e314672c34842278201515b60a2607c",
       "version_major": 2,
       "version_minor": 0
      },
      "text/plain": [
       "  0%|          | 0/39 [00:00<?, ?it/s]"
      ]
     },
     "metadata": {},
     "output_type": "display_data"
    },
    {
     "name": "stdout",
     "output_type": "stream",
     "text": [
      "window_size: 64, batch_size:256 , epoch :777, lr:0.001, patience: 10, loss:4.882851948005459\n"
     ]
    },
    {
     "data": {
      "application/vnd.jupyter.widget-view+json": {
       "model_id": "07cb6e03d7b844f79bfbd11372f2a2b4",
       "version_major": 2,
       "version_minor": 0
      },
      "text/plain": [
       "  0%|          | 0/39 [00:00<?, ?it/s]"
      ]
     },
     "metadata": {},
     "output_type": "display_data"
    },
    {
     "name": "stdout",
     "output_type": "stream",
     "text": [
      "window_size: 64, batch_size:256 , epoch :777, lr:0.0015, patience: 10, loss:4.890556828223169\n"
     ]
    },
    {
     "data": {
      "application/vnd.jupyter.widget-view+json": {
       "model_id": "1823b08c67b54e52ad0b2404cb7d9914",
       "version_major": 2,
       "version_minor": 0
      },
      "text/plain": [
       "  0%|          | 0/39 [00:00<?, ?it/s]"
      ]
     },
     "metadata": {},
     "output_type": "display_data"
    },
    {
     "name": "stdout",
     "output_type": "stream",
     "text": [
      "window_size: 64, batch_size:256 , epoch :831, lr:0.001, patience: 10, loss:4.8745830621048825\n"
     ]
    },
    {
     "data": {
      "application/vnd.jupyter.widget-view+json": {
       "model_id": "137942c75432455ca47fe505b2e4359a",
       "version_major": 2,
       "version_minor": 0
      },
      "text/plain": [
       "  0%|          | 0/39 [00:00<?, ?it/s]"
      ]
     },
     "metadata": {},
     "output_type": "display_data"
    },
    {
     "name": "stdout",
     "output_type": "stream",
     "text": [
      "window_size: 64, batch_size:256 , epoch :831, lr:0.0015, patience: 10, loss:4.88548042045037\n"
     ]
    },
    {
     "data": {
      "application/vnd.jupyter.widget-view+json": {
       "model_id": "722b9e8ccdfc4e2f912545a49f880116",
       "version_major": 2,
       "version_minor": 0
      },
      "text/plain": [
       "  0%|          | 0/39 [00:00<?, ?it/s]"
      ]
     },
     "metadata": {},
     "output_type": "display_data"
    },
    {
     "name": "stdout",
     "output_type": "stream",
     "text": [
      "window_size: 64, batch_size:512 , epoch :777, lr:0.001, patience: 10, loss:4.8707744298775975\n"
     ]
    },
    {
     "data": {
      "application/vnd.jupyter.widget-view+json": {
       "model_id": "84dbb22016d04aaa8f7e31ebf40512d1",
       "version_major": 2,
       "version_minor": 0
      },
      "text/plain": [
       "  0%|          | 0/39 [00:00<?, ?it/s]"
      ]
     },
     "metadata": {},
     "output_type": "display_data"
    },
    {
     "name": "stdout",
     "output_type": "stream",
     "text": [
      "window_size: 64, batch_size:512 , epoch :777, lr:0.0015, patience: 10, loss:4.8820017347037785\n"
     ]
    },
    {
     "data": {
      "application/vnd.jupyter.widget-view+json": {
       "model_id": "a03db1931e3e4c4d96037cd94f7fb6c9",
       "version_major": 2,
       "version_minor": 0
      },
      "text/plain": [
       "  0%|          | 0/39 [00:00<?, ?it/s]"
      ]
     },
     "metadata": {},
     "output_type": "display_data"
    },
    {
     "name": "stdout",
     "output_type": "stream",
     "text": [
      "window_size: 64, batch_size:512 , epoch :831, lr:0.001, patience: 10, loss:4.872519228850801\n"
     ]
    },
    {
     "data": {
      "application/vnd.jupyter.widget-view+json": {
       "model_id": "f6772ddeb11f4e8c8b3e6d359fe19b2f",
       "version_major": 2,
       "version_minor": 0
      },
      "text/plain": [
       "  0%|          | 0/39 [00:00<?, ?it/s]"
      ]
     },
     "metadata": {},
     "output_type": "display_data"
    },
    {
     "name": "stdout",
     "output_type": "stream",
     "text": [
      "window_size: 64, batch_size:512 , epoch :831, lr:0.0015, patience: 10, loss:4.880568303515514\n"
     ]
    },
    {
     "data": {
      "application/vnd.jupyter.widget-view+json": {
       "model_id": "2508ea5e88da4b37a1846321bf05e6ba",
       "version_major": 2,
       "version_minor": 0
      },
      "text/plain": [
       "  0%|          | 0/39 [00:00<?, ?it/s]"
      ]
     },
     "metadata": {},
     "output_type": "display_data"
    },
    {
     "name": "stdout",
     "output_type": "stream",
     "text": [
      "window_size: 64, batch_size:1024 , epoch :777, lr:0.001, patience: 10, loss:4.91259092553705\n"
     ]
    },
    {
     "data": {
      "application/vnd.jupyter.widget-view+json": {
       "model_id": "e501aa2c50a14f7fa3c350b949dc2cbf",
       "version_major": 2,
       "version_minor": 0
      },
      "text/plain": [
       "  0%|          | 0/39 [00:00<?, ?it/s]"
      ]
     },
     "metadata": {},
     "output_type": "display_data"
    },
    {
     "name": "stdout",
     "output_type": "stream",
     "text": [
      "window_size: 64, batch_size:1024 , epoch :777, lr:0.0015, patience: 10, loss:4.900329581357539\n"
     ]
    },
    {
     "data": {
      "application/vnd.jupyter.widget-view+json": {
       "model_id": "b50734e70faa4bf3be8ec2aa0414cadd",
       "version_major": 2,
       "version_minor": 0
      },
      "text/plain": [
       "  0%|          | 0/39 [00:00<?, ?it/s]"
      ]
     },
     "metadata": {},
     "output_type": "display_data"
    },
    {
     "name": "stdout",
     "output_type": "stream",
     "text": [
      "window_size: 64, batch_size:1024 , epoch :831, lr:0.001, patience: 10, loss:4.903591603152453\n"
     ]
    },
    {
     "data": {
      "application/vnd.jupyter.widget-view+json": {
       "model_id": "d4f1aa5a771147269519cdaef691f015",
       "version_major": 2,
       "version_minor": 0
      },
      "text/plain": [
       "  0%|          | 0/39 [00:00<?, ?it/s]"
      ]
     },
     "metadata": {},
     "output_type": "display_data"
    },
    {
     "name": "stdout",
     "output_type": "stream",
     "text": [
      "window_size: 64, batch_size:1024 , epoch :831, lr:0.0015, patience: 10, loss:4.883651709295808\n"
     ]
    },
    {
     "data": {
      "application/vnd.jupyter.widget-view+json": {
       "model_id": "38e69ac68b9c4903aa8dd7ad5248c643",
       "version_major": 2,
       "version_minor": 0
      },
      "text/plain": [
       "  0%|          | 0/39 [00:00<?, ?it/s]"
      ]
     },
     "metadata": {},
     "output_type": "display_data"
    },
    {
     "name": "stdout",
     "output_type": "stream",
     "text": [
      "window_size: 64, batch_size:2048 , epoch :777, lr:0.001, patience: 10, loss:0.035248184204101564\n"
     ]
    },
    {
     "data": {
      "application/vnd.jupyter.widget-view+json": {
       "model_id": "b46356f1497b42de8422b3e6371e299b",
       "version_major": 2,
       "version_minor": 0
      },
      "text/plain": [
       "  0%|          | 0/39 [00:00<?, ?it/s]"
      ]
     },
     "metadata": {},
     "output_type": "display_data"
    },
    {
     "name": "stdout",
     "output_type": "stream",
     "text": [
      "window_size: 64, batch_size:2048 , epoch :777, lr:0.0015, patience: 10, loss:3.4250458668917414\n"
     ]
    },
    {
     "data": {
      "application/vnd.jupyter.widget-view+json": {
       "model_id": "d20edf3930084939a92dac052c3d4097",
       "version_major": 2,
       "version_minor": 0
      },
      "text/plain": [
       "  0%|          | 0/39 [00:00<?, ?it/s]"
      ]
     },
     "metadata": {},
     "output_type": "display_data"
    },
    {
     "name": "stdout",
     "output_type": "stream",
     "text": [
      "window_size: 64, batch_size:2048 , epoch :831, lr:0.001, patience: 10, loss:0.8345903533697128\n"
     ]
    },
    {
     "data": {
      "application/vnd.jupyter.widget-view+json": {
       "model_id": "18274adcc8de4605b17ea4118d1069b8",
       "version_major": 2,
       "version_minor": 0
      },
      "text/plain": [
       "  0%|          | 0/39 [00:00<?, ?it/s]"
      ]
     },
     "metadata": {},
     "output_type": "display_data"
    },
    {
     "name": "stdout",
     "output_type": "stream",
     "text": [
      "window_size: 64, batch_size:2048 , epoch :831, lr:0.0015, patience: 10, loss:3.9038754207789905\n"
     ]
    },
    {
     "data": {
      "application/vnd.jupyter.widget-view+json": {
       "model_id": "956d71370055424181224490c0adc5d2",
       "version_major": 2,
       "version_minor": 0
      },
      "text/plain": [
       "  0%|          | 0/39 [00:00<?, ?it/s]"
      ]
     },
     "metadata": {},
     "output_type": "display_data"
    },
    {
     "name": "stdout",
     "output_type": "stream",
     "text": [
      "window_size: 72, batch_size:256 , epoch :777, lr:0.001, patience: 10, loss:4.835927512019873\n"
     ]
    },
    {
     "data": {
      "application/vnd.jupyter.widget-view+json": {
       "model_id": "70934ded54704b04940934e7c970281f",
       "version_major": 2,
       "version_minor": 0
      },
      "text/plain": [
       "  0%|          | 0/39 [00:00<?, ?it/s]"
      ]
     },
     "metadata": {},
     "output_type": "display_data"
    },
    {
     "name": "stdout",
     "output_type": "stream",
     "text": [
      "window_size: 72, batch_size:256 , epoch :777, lr:0.0015, patience: 10, loss:4.842234789031248\n"
     ]
    },
    {
     "data": {
      "application/vnd.jupyter.widget-view+json": {
       "model_id": "c247ba0d64094c2986e0aa53639fafb6",
       "version_major": 2,
       "version_minor": 0
      },
      "text/plain": [
       "  0%|          | 0/39 [00:00<?, ?it/s]"
      ]
     },
     "metadata": {},
     "output_type": "display_data"
    },
    {
     "name": "stdout",
     "output_type": "stream",
     "text": [
      "window_size: 72, batch_size:256 , epoch :831, lr:0.001, patience: 10, loss:4.843423873561124\n"
     ]
    },
    {
     "data": {
      "application/vnd.jupyter.widget-view+json": {
       "model_id": "f16429e3a378429bbe00a953db6d6a05",
       "version_major": 2,
       "version_minor": 0
      },
      "text/plain": [
       "  0%|          | 0/39 [00:00<?, ?it/s]"
      ]
     },
     "metadata": {},
     "output_type": "display_data"
    },
    {
     "name": "stdout",
     "output_type": "stream",
     "text": [
      "window_size: 72, batch_size:256 , epoch :831, lr:0.0015, patience: 10, loss:4.825919859292606\n"
     ]
    },
    {
     "data": {
      "application/vnd.jupyter.widget-view+json": {
       "model_id": "19019e05aa3d4f9c9a388889e17cf3cd",
       "version_major": 2,
       "version_minor": 0
      },
      "text/plain": [
       "  0%|          | 0/39 [00:00<?, ?it/s]"
      ]
     },
     "metadata": {},
     "output_type": "display_data"
    },
    {
     "name": "stdout",
     "output_type": "stream",
     "text": [
      "window_size: 72, batch_size:512 , epoch :777, lr:0.001, patience: 10, loss:4.828432084381583\n"
     ]
    },
    {
     "data": {
      "application/vnd.jupyter.widget-view+json": {
       "model_id": "fb89533500724b1eaf5f4501e933a161",
       "version_major": 2,
       "version_minor": 0
      },
      "text/plain": [
       "  0%|          | 0/39 [00:00<?, ?it/s]"
      ]
     },
     "metadata": {},
     "output_type": "display_data"
    },
    {
     "name": "stdout",
     "output_type": "stream",
     "text": [
      "window_size: 72, batch_size:512 , epoch :777, lr:0.0015, patience: 10, loss:4.842818794359762\n"
     ]
    },
    {
     "data": {
      "application/vnd.jupyter.widget-view+json": {
       "model_id": "34bf30c4ae184598abe703d0a1d32045",
       "version_major": 2,
       "version_minor": 0
      },
      "text/plain": [
       "  0%|          | 0/39 [00:00<?, ?it/s]"
      ]
     },
     "metadata": {},
     "output_type": "display_data"
    },
    {
     "name": "stdout",
     "output_type": "stream",
     "text": [
      "window_size: 72, batch_size:512 , epoch :831, lr:0.001, patience: 10, loss:4.8366429111113165\n"
     ]
    },
    {
     "data": {
      "application/vnd.jupyter.widget-view+json": {
       "model_id": "ae8608a58e464f10a4b8f38793a4a404",
       "version_major": 2,
       "version_minor": 0
      },
      "text/plain": [
       "  0%|          | 0/39 [00:00<?, ?it/s]"
      ]
     },
     "metadata": {},
     "output_type": "display_data"
    },
    {
     "name": "stdout",
     "output_type": "stream",
     "text": [
      "window_size: 72, batch_size:512 , epoch :831, lr:0.0015, patience: 10, loss:4.831659923295181\n"
     ]
    },
    {
     "data": {
      "application/vnd.jupyter.widget-view+json": {
       "model_id": "31c9f1d5f38949289290e69e9630c876",
       "version_major": 2,
       "version_minor": 0
      },
      "text/plain": [
       "  0%|          | 0/39 [00:00<?, ?it/s]"
      ]
     },
     "metadata": {},
     "output_type": "display_data"
    },
    {
     "name": "stdout",
     "output_type": "stream",
     "text": [
      "window_size: 72, batch_size:1024 , epoch :777, lr:0.001, patience: 10, loss:4.913794933982194\n"
     ]
    },
    {
     "data": {
      "application/vnd.jupyter.widget-view+json": {
       "model_id": "c1c780a54a0e4d15a42074f92ef8af66",
       "version_major": 2,
       "version_minor": 0
      },
      "text/plain": [
       "  0%|          | 0/39 [00:00<?, ?it/s]"
      ]
     },
     "metadata": {},
     "output_type": "display_data"
    },
    {
     "name": "stdout",
     "output_type": "stream",
     "text": [
      "window_size: 72, batch_size:1024 , epoch :777, lr:0.0015, patience: 10, loss:4.864080161817372\n"
     ]
    },
    {
     "data": {
      "application/vnd.jupyter.widget-view+json": {
       "model_id": "24ac3dd45b124a3db04dee3da4c4d39e",
       "version_major": 2,
       "version_minor": 0
      },
      "text/plain": [
       "  0%|          | 0/39 [00:00<?, ?it/s]"
      ]
     },
     "metadata": {},
     "output_type": "display_data"
    },
    {
     "name": "stdout",
     "output_type": "stream",
     "text": [
      "window_size: 72, batch_size:1024 , epoch :831, lr:0.001, patience: 10, loss:4.87868341717869\n"
     ]
    },
    {
     "data": {
      "application/vnd.jupyter.widget-view+json": {
       "model_id": "e5b0b50ec36348cc9720427e64179eae",
       "version_major": 2,
       "version_minor": 0
      },
      "text/plain": [
       "  0%|          | 0/39 [00:00<?, ?it/s]"
      ]
     },
     "metadata": {},
     "output_type": "display_data"
    },
    {
     "name": "stdout",
     "output_type": "stream",
     "text": [
      "window_size: 72, batch_size:1024 , epoch :831, lr:0.0015, patience: 10, loss:4.919547505304218\n"
     ]
    },
    {
     "data": {
      "application/vnd.jupyter.widget-view+json": {
       "model_id": "e90761d0bce240f09b5a3cea95a4c155",
       "version_major": 2,
       "version_minor": 0
      },
      "text/plain": [
       "  0%|          | 0/39 [00:00<?, ?it/s]"
      ]
     },
     "metadata": {},
     "output_type": "display_data"
    },
    {
     "name": "stdout",
     "output_type": "stream",
     "text": [
      "window_size: 72, batch_size:2048 , epoch :777, lr:0.001, patience: 10, loss:0.0326688346862793\n"
     ]
    },
    {
     "data": {
      "application/vnd.jupyter.widget-view+json": {
       "model_id": "79781f41a19445319cb19ed781e429ed",
       "version_major": 2,
       "version_minor": 0
      },
      "text/plain": [
       "  0%|          | 0/39 [00:00<?, ?it/s]"
      ]
     },
     "metadata": {},
     "output_type": "display_data"
    },
    {
     "name": "stdout",
     "output_type": "stream",
     "text": [
      "window_size: 72, batch_size:2048 , epoch :777, lr:0.0015, patience: 10, loss:3.050219107031823\n"
     ]
    },
    {
     "data": {
      "application/vnd.jupyter.widget-view+json": {
       "model_id": "62dd021d596c4a7c8b7928f710caecd5",
       "version_major": 2,
       "version_minor": 0
      },
      "text/plain": [
       "  0%|          | 0/39 [00:00<?, ?it/s]"
      ]
     },
     "metadata": {},
     "output_type": "display_data"
    },
    {
     "name": "stdout",
     "output_type": "stream",
     "text": [
      "window_size: 72, batch_size:2048 , epoch :831, lr:0.001, patience: 10, loss:0.8221933916807175\n"
     ]
    },
    {
     "data": {
      "application/vnd.jupyter.widget-view+json": {
       "model_id": "3bc026d8006c4f24869666551a1ffae3",
       "version_major": 2,
       "version_minor": 0
      },
      "text/plain": [
       "  0%|          | 0/39 [00:00<?, ?it/s]"
      ]
     },
     "metadata": {},
     "output_type": "display_data"
    },
    {
     "name": "stdout",
     "output_type": "stream",
     "text": [
      "window_size: 72, batch_size:2048 , epoch :831, lr:0.0015, patience: 10, loss:3.878319580167532\n"
     ]
    },
    {
     "data": {
      "application/vnd.jupyter.widget-view+json": {
       "model_id": "36b836f6f4474e31a7779c2af10145dd",
       "version_major": 2,
       "version_minor": 0
      },
      "text/plain": [
       "  0%|          | 0/39 [00:00<?, ?it/s]"
      ]
     },
     "metadata": {},
     "output_type": "display_data"
    },
    {
     "name": "stdout",
     "output_type": "stream",
     "text": [
      "window_size: 84, batch_size:256 , epoch :777, lr:0.001, patience: 10, loss:4.775803959315023\n"
     ]
    },
    {
     "data": {
      "application/vnd.jupyter.widget-view+json": {
       "model_id": "1779bdb6046c4c28a1cbcc1a714e22b6",
       "version_major": 2,
       "version_minor": 0
      },
      "text/plain": [
       "  0%|          | 0/39 [00:00<?, ?it/s]"
      ]
     },
     "metadata": {},
     "output_type": "display_data"
    },
    {
     "name": "stdout",
     "output_type": "stream",
     "text": [
      "window_size: 84, batch_size:256 , epoch :777, lr:0.0015, patience: 10, loss:4.77337514562905\n"
     ]
    },
    {
     "data": {
      "application/vnd.jupyter.widget-view+json": {
       "model_id": "c88976cf82a34dd897baa7f49c2efdb7",
       "version_major": 2,
       "version_minor": 0
      },
      "text/plain": [
       "  0%|          | 0/39 [00:00<?, ?it/s]"
      ]
     },
     "metadata": {},
     "output_type": "display_data"
    },
    {
     "name": "stdout",
     "output_type": "stream",
     "text": [
      "window_size: 84, batch_size:256 , epoch :831, lr:0.001, patience: 10, loss:4.77562398756792\n"
     ]
    },
    {
     "data": {
      "application/vnd.jupyter.widget-view+json": {
       "model_id": "17d740e0296d49ae9810852fbc6e0628",
       "version_major": 2,
       "version_minor": 0
      },
      "text/plain": [
       "  0%|          | 0/39 [00:00<?, ?it/s]"
      ]
     },
     "metadata": {},
     "output_type": "display_data"
    },
    {
     "name": "stdout",
     "output_type": "stream",
     "text": [
      "window_size: 84, batch_size:256 , epoch :831, lr:0.0015, patience: 10, loss:4.7827633210892495\n"
     ]
    },
    {
     "data": {
      "application/vnd.jupyter.widget-view+json": {
       "model_id": "4d53a7d1774046a69a08cc29f193ee2d",
       "version_major": 2,
       "version_minor": 0
      },
      "text/plain": [
       "  0%|          | 0/39 [00:00<?, ?it/s]"
      ]
     },
     "metadata": {},
     "output_type": "display_data"
    },
    {
     "name": "stdout",
     "output_type": "stream",
     "text": [
      "window_size: 84, batch_size:512 , epoch :777, lr:0.001, patience: 10, loss:4.771607047398886\n"
     ]
    },
    {
     "data": {
      "application/vnd.jupyter.widget-view+json": {
       "model_id": "3bfdd402042c4b89b57ceaef997ed8ef",
       "version_major": 2,
       "version_minor": 0
      },
      "text/plain": [
       "  0%|          | 0/39 [00:00<?, ?it/s]"
      ]
     },
     "metadata": {},
     "output_type": "display_data"
    },
    {
     "name": "stdout",
     "output_type": "stream",
     "text": [
      "window_size: 84, batch_size:512 , epoch :777, lr:0.0015, patience: 10, loss:4.780746247167387\n"
     ]
    },
    {
     "data": {
      "application/vnd.jupyter.widget-view+json": {
       "model_id": "ffd89d1c4f4e46718e34c3f4df17ee97",
       "version_major": 2,
       "version_minor": 0
      },
      "text/plain": [
       "  0%|          | 0/39 [00:00<?, ?it/s]"
      ]
     },
     "metadata": {},
     "output_type": "display_data"
    },
    {
     "name": "stdout",
     "output_type": "stream",
     "text": [
      "window_size: 84, batch_size:512 , epoch :831, lr:0.001, patience: 10, loss:4.773394798363248\n"
     ]
    },
    {
     "data": {
      "application/vnd.jupyter.widget-view+json": {
       "model_id": "4cc6aef5dfb3413fb562317467323f1e",
       "version_major": 2,
       "version_minor": 0
      },
      "text/plain": [
       "  0%|          | 0/39 [00:00<?, ?it/s]"
      ]
     },
     "metadata": {},
     "output_type": "display_data"
    },
    {
     "name": "stdout",
     "output_type": "stream",
     "text": [
      "window_size: 84, batch_size:512 , epoch :831, lr:0.0015, patience: 10, loss:4.7727230025380845\n"
     ]
    },
    {
     "data": {
      "application/vnd.jupyter.widget-view+json": {
       "model_id": "d3f3baa897aa4317b83c12b20f560621",
       "version_major": 2,
       "version_minor": 0
      },
      "text/plain": [
       "  0%|          | 0/39 [00:00<?, ?it/s]"
      ]
     },
     "metadata": {},
     "output_type": "display_data"
    },
    {
     "name": "stdout",
     "output_type": "stream",
     "text": [
      "window_size: 84, batch_size:1024 , epoch :777, lr:0.001, patience: 10, loss:4.777004968494176\n"
     ]
    },
    {
     "data": {
      "application/vnd.jupyter.widget-view+json": {
       "model_id": "9749642b163546cb86362e0623f6b0c5",
       "version_major": 2,
       "version_minor": 0
      },
      "text/plain": [
       "  0%|          | 0/39 [00:00<?, ?it/s]"
      ]
     },
     "metadata": {},
     "output_type": "display_data"
    },
    {
     "name": "stdout",
     "output_type": "stream",
     "text": [
      "window_size: 84, batch_size:1024 , epoch :777, lr:0.0015, patience: 10, loss:4.788230394281447\n"
     ]
    },
    {
     "data": {
      "application/vnd.jupyter.widget-view+json": {
       "model_id": "063a7aa26f1947f0aa397db33f816ce4",
       "version_major": 2,
       "version_minor": 0
      },
      "text/plain": [
       "  0%|          | 0/39 [00:00<?, ?it/s]"
      ]
     },
     "metadata": {},
     "output_type": "display_data"
    },
    {
     "name": "stdout",
     "output_type": "stream",
     "text": [
      "window_size: 84, batch_size:1024 , epoch :831, lr:0.001, patience: 10, loss:4.8393256432637575\n"
     ]
    },
    {
     "data": {
      "application/vnd.jupyter.widget-view+json": {
       "model_id": "28f4eedd41864a41b6ed26b47a0efe5c",
       "version_major": 2,
       "version_minor": 0
      },
      "text/plain": [
       "  0%|          | 0/39 [00:00<?, ?it/s]"
      ]
     },
     "metadata": {},
     "output_type": "display_data"
    },
    {
     "name": "stdout",
     "output_type": "stream",
     "text": [
      "window_size: 84, batch_size:1024 , epoch :831, lr:0.0015, patience: 10, loss:4.781039223633707\n"
     ]
    },
    {
     "data": {
      "application/vnd.jupyter.widget-view+json": {
       "model_id": "0c887303fc75494cb5f592b990e32cf1",
       "version_major": 2,
       "version_minor": 0
      },
      "text/plain": [
       "  0%|          | 0/39 [00:00<?, ?it/s]"
      ]
     },
     "metadata": {},
     "output_type": "display_data"
    },
    {
     "name": "stdout",
     "output_type": "stream",
     "text": [
      "window_size: 84, batch_size:2048 , epoch :777, lr:0.001, patience: 10, loss:0.17489069879055022\n"
     ]
    },
    {
     "data": {
      "application/vnd.jupyter.widget-view+json": {
       "model_id": "f2b69303a26d4a5ab63ef4ad2f0218f1",
       "version_major": 2,
       "version_minor": 0
      },
      "text/plain": [
       "  0%|          | 0/39 [00:00<?, ?it/s]"
      ]
     },
     "metadata": {},
     "output_type": "display_data"
    },
    {
     "name": "stdout",
     "output_type": "stream",
     "text": [
      "window_size: 84, batch_size:2048 , epoch :777, lr:0.0015, patience: 10, loss:3.501896896600723\n"
     ]
    },
    {
     "data": {
      "application/vnd.jupyter.widget-view+json": {
       "model_id": "c85e9934fa5f484ba6557094450c70e9",
       "version_major": 2,
       "version_minor": 0
      },
      "text/plain": [
       "  0%|          | 0/39 [00:00<?, ?it/s]"
      ]
     },
     "metadata": {},
     "output_type": "display_data"
    },
    {
     "name": "stdout",
     "output_type": "stream",
     "text": [
      "window_size: 84, batch_size:2048 , epoch :831, lr:0.001, patience: 10, loss:0.7538978506922721\n"
     ]
    },
    {
     "data": {
      "application/vnd.jupyter.widget-view+json": {
       "model_id": "8b23588c2f7245f1a4c571b0f31be952",
       "version_major": 2,
       "version_minor": 0
      },
      "text/plain": [
       "  0%|          | 0/39 [00:00<?, ?it/s]"
      ]
     },
     "metadata": {},
     "output_type": "display_data"
    },
    {
     "name": "stdout",
     "output_type": "stream",
     "text": [
      "window_size: 84, batch_size:2048 , epoch :831, lr:0.0015, patience: 10, loss:3.9698107018619773\n"
     ]
    },
    {
     "data": {
      "application/vnd.jupyter.widget-view+json": {
       "model_id": "7209641368f54c2781b8d8eada055a99",
       "version_major": 2,
       "version_minor": 0
      },
      "text/plain": [
       "  0%|          | 0/39 [00:00<?, ?it/s]"
      ]
     },
     "metadata": {},
     "output_type": "display_data"
    },
    {
     "name": "stdout",
     "output_type": "stream",
     "text": [
      "window_size: 112, batch_size:256 , epoch :777, lr:0.001, patience: 10, loss:4.629542465383808\n"
     ]
    },
    {
     "data": {
      "application/vnd.jupyter.widget-view+json": {
       "model_id": "9a0decb7232442d3bd46cd14918d6ff4",
       "version_major": 2,
       "version_minor": 0
      },
      "text/plain": [
       "  0%|          | 0/39 [00:00<?, ?it/s]"
      ]
     },
     "metadata": {},
     "output_type": "display_data"
    },
    {
     "name": "stdout",
     "output_type": "stream",
     "text": [
      "window_size: 112, batch_size:256 , epoch :777, lr:0.0015, patience: 10, loss:4.642261233031751\n"
     ]
    },
    {
     "data": {
      "application/vnd.jupyter.widget-view+json": {
       "model_id": "95b2277b55274dd9aebc472beff7e30a",
       "version_major": 2,
       "version_minor": 0
      },
      "text/plain": [
       "  0%|          | 0/39 [00:00<?, ?it/s]"
      ]
     },
     "metadata": {},
     "output_type": "display_data"
    },
    {
     "name": "stdout",
     "output_type": "stream",
     "text": [
      "window_size: 112, batch_size:256 , epoch :831, lr:0.001, patience: 10, loss:4.654571754885216\n"
     ]
    },
    {
     "data": {
      "application/vnd.jupyter.widget-view+json": {
       "model_id": "d9b2bcd45ceb4427a8700c5132f7f4d5",
       "version_major": 2,
       "version_minor": 0
      },
      "text/plain": [
       "  0%|          | 0/39 [00:00<?, ?it/s]"
      ]
     },
     "metadata": {},
     "output_type": "display_data"
    },
    {
     "name": "stdout",
     "output_type": "stream",
     "text": [
      "window_size: 112, batch_size:256 , epoch :831, lr:0.0015, patience: 10, loss:4.6140104505121675\n"
     ]
    },
    {
     "data": {
      "application/vnd.jupyter.widget-view+json": {
       "model_id": "c41c9e5491044d0c84eabfbcabba59a4",
       "version_major": 2,
       "version_minor": 0
      },
      "text/plain": [
       "  0%|          | 0/39 [00:00<?, ?it/s]"
      ]
     },
     "metadata": {},
     "output_type": "display_data"
    },
    {
     "name": "stdout",
     "output_type": "stream",
     "text": [
      "window_size: 112, batch_size:512 , epoch :777, lr:0.001, patience: 10, loss:4.617077304263908\n"
     ]
    },
    {
     "data": {
      "application/vnd.jupyter.widget-view+json": {
       "model_id": "478ae559f12644f19e7fbe6e8c2464c2",
       "version_major": 2,
       "version_minor": 0
      },
      "text/plain": [
       "  0%|          | 0/39 [00:00<?, ?it/s]"
      ]
     },
     "metadata": {},
     "output_type": "display_data"
    },
    {
     "name": "stdout",
     "output_type": "stream",
     "text": [
      "window_size: 112, batch_size:512 , epoch :777, lr:0.0015, patience: 10, loss:4.613105846683183\n"
     ]
    },
    {
     "data": {
      "application/vnd.jupyter.widget-view+json": {
       "model_id": "ff9e9ee9b12a4b55931313e5e3aeea40",
       "version_major": 2,
       "version_minor": 0
      },
      "text/plain": [
       "  0%|          | 0/39 [00:00<?, ?it/s]"
      ]
     },
     "metadata": {},
     "output_type": "display_data"
    },
    {
     "name": "stdout",
     "output_type": "stream",
     "text": [
      "window_size: 112, batch_size:512 , epoch :831, lr:0.001, patience: 10, loss:4.628036798695724\n"
     ]
    },
    {
     "data": {
      "application/vnd.jupyter.widget-view+json": {
       "model_id": "a12c9d5240c9465b82fcfdb21f9c12ef",
       "version_major": 2,
       "version_minor": 0
      },
      "text/plain": [
       "  0%|          | 0/39 [00:00<?, ?it/s]"
      ]
     },
     "metadata": {},
     "output_type": "display_data"
    },
    {
     "name": "stdout",
     "output_type": "stream",
     "text": [
      "window_size: 112, batch_size:512 , epoch :831, lr:0.0015, patience: 10, loss:4.616557755505046\n"
     ]
    },
    {
     "data": {
      "application/vnd.jupyter.widget-view+json": {
       "model_id": "b3a03724ef064f71bdd627da091c2cf4",
       "version_major": 2,
       "version_minor": 0
      },
      "text/plain": [
       "  0%|          | 0/39 [00:00<?, ?it/s]"
      ]
     },
     "metadata": {},
     "output_type": "display_data"
    },
    {
     "name": "stdout",
     "output_type": "stream",
     "text": [
      "window_size: 112, batch_size:1024 , epoch :777, lr:0.001, patience: 10, loss:4.675236764065923\n"
     ]
    },
    {
     "data": {
      "application/vnd.jupyter.widget-view+json": {
       "model_id": "8df6035f73b345398067bdb2bbd7c985",
       "version_major": 2,
       "version_minor": 0
      },
      "text/plain": [
       "  0%|          | 0/39 [00:00<?, ?it/s]"
      ]
     },
     "metadata": {},
     "output_type": "display_data"
    },
    {
     "name": "stdout",
     "output_type": "stream",
     "text": [
      "window_size: 112, batch_size:1024 , epoch :777, lr:0.0015, patience: 10, loss:4.660619711585342\n"
     ]
    },
    {
     "data": {
      "application/vnd.jupyter.widget-view+json": {
       "model_id": "4b1b790301884179afed4a83a8c1d310",
       "version_major": 2,
       "version_minor": 0
      },
      "text/plain": [
       "  0%|          | 0/39 [00:00<?, ?it/s]"
      ]
     },
     "metadata": {},
     "output_type": "display_data"
    },
    {
     "name": "stdout",
     "output_type": "stream",
     "text": [
      "window_size: 112, batch_size:1024 , epoch :831, lr:0.001, patience: 10, loss:4.633182101413606\n"
     ]
    },
    {
     "data": {
      "application/vnd.jupyter.widget-view+json": {
       "model_id": "37734b75f7ec4cb5aed21062e90cbe4b",
       "version_major": 2,
       "version_minor": 0
      },
      "text/plain": [
       "  0%|          | 0/39 [00:00<?, ?it/s]"
      ]
     },
     "metadata": {},
     "output_type": "display_data"
    },
    {
     "name": "stdout",
     "output_type": "stream",
     "text": [
      "window_size: 112, batch_size:1024 , epoch :831, lr:0.0015, patience: 10, loss:4.646646392695605\n"
     ]
    },
    {
     "data": {
      "application/vnd.jupyter.widget-view+json": {
       "model_id": "0e4d0884fa9841559d890466d07cccd1",
       "version_major": 2,
       "version_minor": 0
      },
      "text/plain": [
       "  0%|          | 0/39 [00:00<?, ?it/s]"
      ]
     },
     "metadata": {},
     "output_type": "display_data"
    },
    {
     "name": "stdout",
     "output_type": "stream",
     "text": [
      "window_size: 112, batch_size:2048 , epoch :777, lr:0.001, patience: 10, loss:0.440670908331871\n"
     ]
    },
    {
     "data": {
      "application/vnd.jupyter.widget-view+json": {
       "model_id": "d12fb6ef6e07442c8065a1b661eea89c",
       "version_major": 2,
       "version_minor": 0
      },
      "text/plain": [
       "  0%|          | 0/39 [00:00<?, ?it/s]"
      ]
     },
     "metadata": {},
     "output_type": "display_data"
    },
    {
     "name": "stdout",
     "output_type": "stream",
     "text": [
      "window_size: 112, batch_size:2048 , epoch :777, lr:0.0015, patience: 10, loss:3.3748832723498357\n"
     ]
    },
    {
     "data": {
      "application/vnd.jupyter.widget-view+json": {
       "model_id": "3ae5c6f3eda146959bafb8a533e124b3",
       "version_major": 2,
       "version_minor": 0
      },
      "text/plain": [
       "  0%|          | 0/39 [00:00<?, ?it/s]"
      ]
     },
     "metadata": {},
     "output_type": "display_data"
    },
    {
     "name": "stdout",
     "output_type": "stream",
     "text": [
      "window_size: 112, batch_size:2048 , epoch :831, lr:0.001, patience: 10, loss:1.0229622431993484\n"
     ]
    },
    {
     "data": {
      "application/vnd.jupyter.widget-view+json": {
       "model_id": "300984d338f3459e80207f365d957a91",
       "version_major": 2,
       "version_minor": 0
      },
      "text/plain": [
       "  0%|          | 0/39 [00:00<?, ?it/s]"
      ]
     },
     "metadata": {},
     "output_type": "display_data"
    },
    {
     "name": "stdout",
     "output_type": "stream",
     "text": [
      "window_size: 112, batch_size:2048 , epoch :831, lr:0.0015, patience: 10, loss:3.797625844299793\n"
     ]
    },
    {
     "data": {
      "application/vnd.jupyter.widget-view+json": {
       "model_id": "74ce014a002443899fbb71d8b041018a",
       "version_major": 2,
       "version_minor": 0
      },
      "text/plain": [
       "  0%|          | 0/39 [00:00<?, ?it/s]"
      ]
     },
     "metadata": {},
     "output_type": "display_data"
    },
    {
     "name": "stdout",
     "output_type": "stream",
     "text": [
      "window_size: 128, batch_size:256 , epoch :777, lr:0.001, patience: 10, loss:4.572004855073989\n"
     ]
    },
    {
     "data": {
      "application/vnd.jupyter.widget-view+json": {
       "model_id": "f1cbb2839243454c85c9c515029159c0",
       "version_major": 2,
       "version_minor": 0
      },
      "text/plain": [
       "  0%|          | 0/39 [00:00<?, ?it/s]"
      ]
     },
     "metadata": {},
     "output_type": "display_data"
    },
    {
     "name": "stdout",
     "output_type": "stream",
     "text": [
      "window_size: 128, batch_size:256 , epoch :777, lr:0.0015, patience: 10, loss:4.54340154311061\n"
     ]
    },
    {
     "data": {
      "application/vnd.jupyter.widget-view+json": {
       "model_id": "0f1e371f336f43a4baa289cc0193199a",
       "version_major": 2,
       "version_minor": 0
      },
      "text/plain": [
       "  0%|          | 0/39 [00:00<?, ?it/s]"
      ]
     },
     "metadata": {},
     "output_type": "display_data"
    },
    {
     "name": "stdout",
     "output_type": "stream",
     "text": [
      "window_size: 128, batch_size:256 , epoch :831, lr:0.001, patience: 10, loss:4.524011408550044\n"
     ]
    },
    {
     "data": {
      "application/vnd.jupyter.widget-view+json": {
       "model_id": "3dbf56b1c3424a64add61422938c262f",
       "version_major": 2,
       "version_minor": 0
      },
      "text/plain": [
       "  0%|          | 0/39 [00:00<?, ?it/s]"
      ]
     },
     "metadata": {},
     "output_type": "display_data"
    },
    {
     "name": "stdout",
     "output_type": "stream",
     "text": [
      "window_size: 128, batch_size:256 , epoch :831, lr:0.0015, patience: 10, loss:4.536913672665755\n"
     ]
    },
    {
     "data": {
      "application/vnd.jupyter.widget-view+json": {
       "model_id": "e08e9ebc4403438cbaad29dcf1c0b5ac",
       "version_major": 2,
       "version_minor": 0
      },
      "text/plain": [
       "  0%|          | 0/39 [00:00<?, ?it/s]"
      ]
     },
     "metadata": {},
     "output_type": "display_data"
    },
    {
     "name": "stdout",
     "output_type": "stream",
     "text": [
      "window_size: 128, batch_size:512 , epoch :777, lr:0.001, patience: 10, loss:4.504950720846652\n"
     ]
    },
    {
     "data": {
      "application/vnd.jupyter.widget-view+json": {
       "model_id": "0abeb70cb4bc47deb2b85789d6609c54",
       "version_major": 2,
       "version_minor": 0
      },
      "text/plain": [
       "  0%|          | 0/39 [00:00<?, ?it/s]"
      ]
     },
     "metadata": {},
     "output_type": "display_data"
    },
    {
     "name": "stdout",
     "output_type": "stream",
     "text": [
      "window_size: 128, batch_size:512 , epoch :777, lr:0.0015, patience: 10, loss:4.515358841811617\n"
     ]
    },
    {
     "data": {
      "application/vnd.jupyter.widget-view+json": {
       "model_id": "c671a7fe480e42f0a1b6ae393e87dd03",
       "version_major": 2,
       "version_minor": 0
      },
      "text/plain": [
       "  0%|          | 0/39 [00:00<?, ?it/s]"
      ]
     },
     "metadata": {},
     "output_type": "display_data"
    },
    {
     "name": "stdout",
     "output_type": "stream",
     "text": [
      "window_size: 128, batch_size:512 , epoch :831, lr:0.001, patience: 10, loss:4.506114241148035\n"
     ]
    },
    {
     "data": {
      "application/vnd.jupyter.widget-view+json": {
       "model_id": "cdfbdea16d794ed7b32d967438c11660",
       "version_major": 2,
       "version_minor": 0
      },
      "text/plain": [
       "  0%|          | 0/39 [00:00<?, ?it/s]"
      ]
     },
     "metadata": {},
     "output_type": "display_data"
    },
    {
     "name": "stdout",
     "output_type": "stream",
     "text": [
      "window_size: 128, batch_size:512 , epoch :831, lr:0.0015, patience: 10, loss:4.5172530427277096\n"
     ]
    },
    {
     "data": {
      "application/vnd.jupyter.widget-view+json": {
       "model_id": "3acb8d9fef384d53b0d184b2743cd50f",
       "version_major": 2,
       "version_minor": 0
      },
      "text/plain": [
       "  0%|          | 0/39 [00:00<?, ?it/s]"
      ]
     },
     "metadata": {},
     "output_type": "display_data"
    },
    {
     "name": "stdout",
     "output_type": "stream",
     "text": [
      "window_size: 128, batch_size:1024 , epoch :777, lr:0.001, patience: 10, loss:4.561532876417042\n"
     ]
    },
    {
     "data": {
      "application/vnd.jupyter.widget-view+json": {
       "model_id": "a4083885727b4f6a82568b2656d4f7e4",
       "version_major": 2,
       "version_minor": 0
      },
      "text/plain": [
       "  0%|          | 0/39 [00:00<?, ?it/s]"
      ]
     },
     "metadata": {},
     "output_type": "display_data"
    },
    {
     "name": "stdout",
     "output_type": "stream",
     "text": [
      "window_size: 128, batch_size:1024 , epoch :777, lr:0.0015, patience: 10, loss:4.523362272627651\n"
     ]
    },
    {
     "data": {
      "application/vnd.jupyter.widget-view+json": {
       "model_id": "f44bc7b3383c44c5b1a79279c29d82c7",
       "version_major": 2,
       "version_minor": 0
      },
      "text/plain": [
       "  0%|          | 0/39 [00:00<?, ?it/s]"
      ]
     },
     "metadata": {},
     "output_type": "display_data"
    },
    {
     "name": "stdout",
     "output_type": "stream",
     "text": [
      "window_size: 128, batch_size:1024 , epoch :831, lr:0.001, patience: 10, loss:4.576187910310924\n"
     ]
    },
    {
     "data": {
      "application/vnd.jupyter.widget-view+json": {
       "model_id": "77a98a1145e2405fbb126e2752a81b1c",
       "version_major": 2,
       "version_minor": 0
      },
      "text/plain": [
       "  0%|          | 0/39 [00:00<?, ?it/s]"
      ]
     },
     "metadata": {},
     "output_type": "display_data"
    },
    {
     "name": "stdout",
     "output_type": "stream",
     "text": [
      "window_size: 128, batch_size:1024 , epoch :831, lr:0.0015, patience: 10, loss:4.5811315244138235\n"
     ]
    },
    {
     "data": {
      "application/vnd.jupyter.widget-view+json": {
       "model_id": "5ee80a21c621473cb6a21f1d983091a2",
       "version_major": 2,
       "version_minor": 0
      },
      "text/plain": [
       "  0%|          | 0/39 [00:00<?, ?it/s]"
      ]
     },
     "metadata": {},
     "output_type": "display_data"
    },
    {
     "name": "stdout",
     "output_type": "stream",
     "text": [
      "window_size: 128, batch_size:2048 , epoch :777, lr:0.001, patience: 10, loss:0.2626911088824272\n"
     ]
    },
    {
     "data": {
      "application/vnd.jupyter.widget-view+json": {
       "model_id": "962c28050f7f486981ecbfaacb4d1cff",
       "version_major": 2,
       "version_minor": 0
      },
      "text/plain": [
       "  0%|          | 0/39 [00:00<?, ?it/s]"
      ]
     },
     "metadata": {},
     "output_type": "display_data"
    },
    {
     "name": "stdout",
     "output_type": "stream",
     "text": [
      "window_size: 128, batch_size:2048 , epoch :777, lr:0.0015, patience: 10, loss:3.001280905663967\n"
     ]
    },
    {
     "data": {
      "application/vnd.jupyter.widget-view+json": {
       "model_id": "6970a4c399834a63992038b52f7fe475",
       "version_major": 2,
       "version_minor": 0
      },
      "text/plain": [
       "  0%|          | 0/39 [00:00<?, ?it/s]"
      ]
     },
     "metadata": {},
     "output_type": "display_data"
    },
    {
     "name": "stdout",
     "output_type": "stream",
     "text": [
      "window_size: 128, batch_size:2048 , epoch :831, lr:0.001, patience: 10, loss:1.6750190448164939\n"
     ]
    },
    {
     "data": {
      "application/vnd.jupyter.widget-view+json": {
       "model_id": "f625601d890e49fa9b84b8677bb28afc",
       "version_major": 2,
       "version_minor": 0
      },
      "text/plain": [
       "  0%|          | 0/39 [00:00<?, ?it/s]"
      ]
     },
     "metadata": {},
     "output_type": "display_data"
    },
    {
     "name": "stdout",
     "output_type": "stream",
     "text": [
      "window_size: 128, batch_size:2048 , epoch :831, lr:0.0015, patience: 10, loss:3.7966260848045352\n",
      "final : (3.001280905663967, 128, 2048, 777, 0.0015)\n"
     ]
    }
   ],
   "source": [
    "# bestloss = 100000\n",
    "# bestwin, bestbatch, bestepoch, bestlr = 0,0,0,0\n",
    "# for winsize in tqdm([64,72,84,112, 128 ]):\n",
    "#     for batch_size in [256, 512,1024, 2048]:\n",
    "#         for epoch_count in [ 777, 831]: \n",
    "#             for lr in [0.001, 0.0015]:\n",
    "#                 onetestloss = test(winsize, 28,batch_size, epoch_count, lr, 10)\n",
    "#                 if onetestloss < bestloss and onetestloss >=3 :\n",
    "#                     bestloss,bestwin,bestbatch,bestepoch, bestlr =onetestloss,winsize,batch_size,epoch_count, lr\n",
    "                    \n",
    "# print(f\"final : {bestloss,bestwin,bestbatch,bestepoch, bestlr}\")"
   ]
  },
  {
   "cell_type": "code",
   "execution_count": 17,
   "metadata": {},
   "outputs": [
    {
     "data": {
      "text/html": [
       "<div>\n",
       "<style scoped>\n",
       "    .dataframe tbody tr th:only-of-type {\n",
       "        vertical-align: middle;\n",
       "    }\n",
       "\n",
       "    .dataframe tbody tr th {\n",
       "        vertical-align: top;\n",
       "    }\n",
       "\n",
       "    .dataframe thead th {\n",
       "        text-align: right;\n",
       "    }\n",
       "</style>\n",
       "<table border=\"1\" class=\"dataframe\">\n",
       "  <thead>\n",
       "    <tr style=\"text-align: right;\">\n",
       "      <th></th>\n",
       "      <th>ID</th>\n",
       "      <th>answer</th>\n",
       "    </tr>\n",
       "  </thead>\n",
       "  <tbody>\n",
       "    <tr>\n",
       "      <th>0</th>\n",
       "      <td>TG_A_J_20230304</td>\n",
       "      <td>0</td>\n",
       "    </tr>\n",
       "    <tr>\n",
       "      <th>1</th>\n",
       "      <td>TG_A_J_20230305</td>\n",
       "      <td>0</td>\n",
       "    </tr>\n",
       "    <tr>\n",
       "      <th>2</th>\n",
       "      <td>TG_A_J_20230306</td>\n",
       "      <td>0</td>\n",
       "    </tr>\n",
       "    <tr>\n",
       "      <th>3</th>\n",
       "      <td>TG_A_J_20230307</td>\n",
       "      <td>0</td>\n",
       "    </tr>\n",
       "    <tr>\n",
       "      <th>4</th>\n",
       "      <td>TG_A_J_20230308</td>\n",
       "      <td>0</td>\n",
       "    </tr>\n",
       "    <tr>\n",
       "      <th>...</th>\n",
       "      <td>...</td>\n",
       "      <td>...</td>\n",
       "    </tr>\n",
       "    <tr>\n",
       "      <th>1087</th>\n",
       "      <td>RD_F_J_20230327</td>\n",
       "      <td>0</td>\n",
       "    </tr>\n",
       "    <tr>\n",
       "      <th>1088</th>\n",
       "      <td>RD_F_J_20230328</td>\n",
       "      <td>0</td>\n",
       "    </tr>\n",
       "    <tr>\n",
       "      <th>1089</th>\n",
       "      <td>RD_F_J_20230329</td>\n",
       "      <td>0</td>\n",
       "    </tr>\n",
       "    <tr>\n",
       "      <th>1090</th>\n",
       "      <td>RD_F_J_20230330</td>\n",
       "      <td>0</td>\n",
       "    </tr>\n",
       "    <tr>\n",
       "      <th>1091</th>\n",
       "      <td>RD_F_J_20230331</td>\n",
       "      <td>0</td>\n",
       "    </tr>\n",
       "  </tbody>\n",
       "</table>\n",
       "<p>1092 rows × 2 columns</p>\n",
       "</div>"
      ],
      "text/plain": [
       "                   ID  answer\n",
       "0     TG_A_J_20230304       0\n",
       "1     TG_A_J_20230305       0\n",
       "2     TG_A_J_20230306       0\n",
       "3     TG_A_J_20230307       0\n",
       "4     TG_A_J_20230308       0\n",
       "...               ...     ...\n",
       "1087  RD_F_J_20230327       0\n",
       "1088  RD_F_J_20230328       0\n",
       "1089  RD_F_J_20230329       0\n",
       "1090  RD_F_J_20230330       0\n",
       "1091  RD_F_J_20230331       0\n",
       "\n",
       "[1092 rows x 2 columns]"
      ]
     },
     "execution_count": 17,
     "metadata": {},
     "output_type": "execute_result"
    }
   ],
   "source": [
    "submit = pd.read_csv('./../../DATA/sample_submission.csv')\n",
    "submit"
   ]
  },
  {
   "cell_type": "code",
   "execution_count": 18,
   "metadata": {},
   "outputs": [],
   "source": [
    "findata = []\n",
    "for id_val, predictions in future_predictions_by_id.items():\n",
    "    rounded_predictions = np.round(predictions).astype(np.float64)\n",
    "    findata.extend(rounded_predictions)\n",
    "\n",
    "submit['answer'] = findata\n",
    "submit.loc[submit['answer'] <= 0, 'answer'] = 0\n",
    "submit.loc[submit.index % 7 == 1, 'answer'] = 0"
   ]
  },
  {
   "cell_type": "code",
   "execution_count": 19,
   "metadata": {},
   "outputs": [
    {
     "data": {
      "text/html": [
       "<div>\n",
       "<style scoped>\n",
       "    .dataframe tbody tr th:only-of-type {\n",
       "        vertical-align: middle;\n",
       "    }\n",
       "\n",
       "    .dataframe tbody tr th {\n",
       "        vertical-align: top;\n",
       "    }\n",
       "\n",
       "    .dataframe thead th {\n",
       "        text-align: right;\n",
       "    }\n",
       "</style>\n",
       "<table border=\"1\" class=\"dataframe\">\n",
       "  <thead>\n",
       "    <tr style=\"text-align: right;\">\n",
       "      <th></th>\n",
       "      <th>ID</th>\n",
       "      <th>answer</th>\n",
       "    </tr>\n",
       "  </thead>\n",
       "  <tbody>\n",
       "    <tr>\n",
       "      <th>0</th>\n",
       "      <td>TG_A_J_20230304</td>\n",
       "      <td>2892.0</td>\n",
       "    </tr>\n",
       "    <tr>\n",
       "      <th>1</th>\n",
       "      <td>TG_A_J_20230305</td>\n",
       "      <td>0.0</td>\n",
       "    </tr>\n",
       "    <tr>\n",
       "      <th>2</th>\n",
       "      <td>TG_A_J_20230306</td>\n",
       "      <td>2691.0</td>\n",
       "    </tr>\n",
       "    <tr>\n",
       "      <th>3</th>\n",
       "      <td>TG_A_J_20230307</td>\n",
       "      <td>2751.0</td>\n",
       "    </tr>\n",
       "    <tr>\n",
       "      <th>4</th>\n",
       "      <td>TG_A_J_20230308</td>\n",
       "      <td>2590.0</td>\n",
       "    </tr>\n",
       "    <tr>\n",
       "      <th>...</th>\n",
       "      <td>...</td>\n",
       "      <td>...</td>\n",
       "    </tr>\n",
       "    <tr>\n",
       "      <th>1087</th>\n",
       "      <td>RD_F_J_20230327</td>\n",
       "      <td>442.0</td>\n",
       "    </tr>\n",
       "    <tr>\n",
       "      <th>1088</th>\n",
       "      <td>RD_F_J_20230328</td>\n",
       "      <td>416.0</td>\n",
       "    </tr>\n",
       "    <tr>\n",
       "      <th>1089</th>\n",
       "      <td>RD_F_J_20230329</td>\n",
       "      <td>443.0</td>\n",
       "    </tr>\n",
       "    <tr>\n",
       "      <th>1090</th>\n",
       "      <td>RD_F_J_20230330</td>\n",
       "      <td>453.0</td>\n",
       "    </tr>\n",
       "    <tr>\n",
       "      <th>1091</th>\n",
       "      <td>RD_F_J_20230331</td>\n",
       "      <td>429.0</td>\n",
       "    </tr>\n",
       "  </tbody>\n",
       "</table>\n",
       "<p>1092 rows × 2 columns</p>\n",
       "</div>"
      ],
      "text/plain": [
       "                   ID  answer\n",
       "0     TG_A_J_20230304  2892.0\n",
       "1     TG_A_J_20230305     0.0\n",
       "2     TG_A_J_20230306  2691.0\n",
       "3     TG_A_J_20230307  2751.0\n",
       "4     TG_A_J_20230308  2590.0\n",
       "...               ...     ...\n",
       "1087  RD_F_J_20230327   442.0\n",
       "1088  RD_F_J_20230328   416.0\n",
       "1089  RD_F_J_20230329   443.0\n",
       "1090  RD_F_J_20230330   453.0\n",
       "1091  RD_F_J_20230331   429.0\n",
       "\n",
       "[1092 rows x 2 columns]"
      ]
     },
     "execution_count": 19,
     "metadata": {},
     "output_type": "execute_result"
    }
   ],
   "source": [
    "submit"
   ]
  },
  {
   "cell_type": "code",
   "execution_count": 20,
   "metadata": {},
   "outputs": [],
   "source": [
    "submit.to_csv('../../DATA/SUBMIT/Nlinear4.csv', index=False)"
   ]
  },
  {
   "cell_type": "code",
   "execution_count": 25,
   "metadata": {},
   "outputs": [
    {
     "data": {
      "text/html": [
       "<div>\n",
       "<style scoped>\n",
       "    .dataframe tbody tr th:only-of-type {\n",
       "        vertical-align: middle;\n",
       "    }\n",
       "\n",
       "    .dataframe tbody tr th {\n",
       "        vertical-align: top;\n",
       "    }\n",
       "\n",
       "    .dataframe thead th {\n",
       "        text-align: right;\n",
       "    }\n",
       "</style>\n",
       "<table border=\"1\" class=\"dataframe\">\n",
       "  <thead>\n",
       "    <tr style=\"text-align: right;\">\n",
       "      <th></th>\n",
       "      <th>ID</th>\n",
       "      <th>answer</th>\n",
       "    </tr>\n",
       "  </thead>\n",
       "  <tbody>\n",
       "    <tr>\n",
       "      <th>0</th>\n",
       "      <td>TG_A_J_20230304</td>\n",
       "      <td>2750.0</td>\n",
       "    </tr>\n",
       "    <tr>\n",
       "      <th>1</th>\n",
       "      <td>TG_A_J_20230305</td>\n",
       "      <td>0.0</td>\n",
       "    </tr>\n",
       "    <tr>\n",
       "      <th>2</th>\n",
       "      <td>TG_A_J_20230306</td>\n",
       "      <td>2548.0</td>\n",
       "    </tr>\n",
       "    <tr>\n",
       "      <th>3</th>\n",
       "      <td>TG_A_J_20230307</td>\n",
       "      <td>2915.0</td>\n",
       "    </tr>\n",
       "    <tr>\n",
       "      <th>4</th>\n",
       "      <td>TG_A_J_20230308</td>\n",
       "      <td>2700.0</td>\n",
       "    </tr>\n",
       "    <tr>\n",
       "      <th>...</th>\n",
       "      <td>...</td>\n",
       "      <td>...</td>\n",
       "    </tr>\n",
       "    <tr>\n",
       "      <th>1087</th>\n",
       "      <td>RD_F_J_20230327</td>\n",
       "      <td>363.0</td>\n",
       "    </tr>\n",
       "    <tr>\n",
       "      <th>1088</th>\n",
       "      <td>RD_F_J_20230328</td>\n",
       "      <td>378.0</td>\n",
       "    </tr>\n",
       "    <tr>\n",
       "      <th>1089</th>\n",
       "      <td>RD_F_J_20230329</td>\n",
       "      <td>403.0</td>\n",
       "    </tr>\n",
       "    <tr>\n",
       "      <th>1090</th>\n",
       "      <td>RD_F_J_20230330</td>\n",
       "      <td>362.0</td>\n",
       "    </tr>\n",
       "    <tr>\n",
       "      <th>1091</th>\n",
       "      <td>RD_F_J_20230331</td>\n",
       "      <td>347.0</td>\n",
       "    </tr>\n",
       "  </tbody>\n",
       "</table>\n",
       "<p>1092 rows × 2 columns</p>\n",
       "</div>"
      ],
      "text/plain": [
       "                   ID  answer\n",
       "0     TG_A_J_20230304  2750.0\n",
       "1     TG_A_J_20230305     0.0\n",
       "2     TG_A_J_20230306  2548.0\n",
       "3     TG_A_J_20230307  2915.0\n",
       "4     TG_A_J_20230308  2700.0\n",
       "...               ...     ...\n",
       "1087  RD_F_J_20230327   363.0\n",
       "1088  RD_F_J_20230328   378.0\n",
       "1089  RD_F_J_20230329   403.0\n",
       "1090  RD_F_J_20230330   362.0\n",
       "1091  RD_F_J_20230331   347.0\n",
       "\n",
       "[1092 rows x 2 columns]"
      ]
     },
     "execution_count": 25,
     "metadata": {},
     "output_type": "execute_result"
    }
   ],
   "source": [
    "submit2= pd.read_csv('./../../DATA/SUBMIT/Dlinear1.csv')\n",
    "submit2"
   ]
  },
  {
   "cell_type": "code",
   "execution_count": 26,
   "metadata": {},
   "outputs": [],
   "source": [
    "sub2 = submit2\n",
    "sub2['answer'] = sub2['answer']+submit['answer']"
   ]
  },
  {
   "cell_type": "code",
   "execution_count": 28,
   "metadata": {},
   "outputs": [],
   "source": [
    "sub2['answer'] = sub2['answer']/2"
   ]
  },
  {
   "cell_type": "code",
   "execution_count": 30,
   "metadata": {},
   "outputs": [],
   "source": [
    "sub2.to_csv('../../DATA/SUBMIT/D+Llinear.csv', index=False)"
   ]
  }
 ],
 "metadata": {
  "kernelspec": {
   "display_name": "Python 3",
   "language": "python",
   "name": "python3"
  },
  "language_info": {
   "codemirror_mode": {
    "name": "ipython",
    "version": 3
   },
   "file_extension": ".py",
   "mimetype": "text/x-python",
   "name": "python",
   "nbconvert_exporter": "python",
   "pygments_lexer": "ipython3",
   "version": "3.10.12"
  }
 },
 "nbformat": 4,
 "nbformat_minor": 2
}
